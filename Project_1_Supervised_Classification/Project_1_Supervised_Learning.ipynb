{
  "nbformat": 4,
  "nbformat_minor": 0,
  "metadata": {
    "colab": {
      "name": "Project_1 Supervised Learning",
      "provenance": [],
      "collapsed_sections": [
        "2Yrc4SmCHx65",
        "xHmfYAJtMXil",
        "6AUli_gA58rb",
        "3aSzJHYFEVwY"
      ]
    },
    "kernelspec": {
      "name": "python3",
      "display_name": "Python 3"
    },
    "accelerator": "GPU"
  },
  "cells": [
    {
      "cell_type": "markdown",
      "metadata": {
        "id": "JxWFnP5KfauJ"
      },
      "source": [
        "# **Predicting Heart disease using machine learning**\n",
        "\n",
        "\n",
        "---\n",
        "We are going to take the following approach\n",
        "1. Problem definition\n",
        "2. Data\n",
        "3. Evaluation\n",
        "4. Features\n",
        "5. Modelling\n",
        "6. Experimentation\n",
        "\n",
        "### 1. Problem definition\n",
        "In a statement,\n",
        "Given clinical parameters about a patient ,can we predict whether or not they have heart disease\n",
        "\n",
        "### 2. Data\n",
        "This database contains 76 attributes, but all published experiments refer to using a subset of 14 of them. In particular, the Cleveland database is the only one that has been used by ML researchers to\n",
        "this date. The \"goal\" field refers to the presence of heart disease in the patient. It is integer valued from 0 (no presence) to 4. \n",
        "\n",
        "### 3. Evaluation\n",
        "If we can reach 95% accuracy at predicting whether or not a patient has heart disease during the proof of concept, we'll pursue the project.\n",
        "\n",
        "### 4. Features\n",
        "Getting different information about each of the features in your data\n",
        "\n",
        "Create a data dictionary\n",
        "\n",
        "\n",
        "\n",
        "1. age - age in years\n",
        "2. sex - (1 = male; 0 = female)\n",
        "3. cp - chest pain type:\n",
        "  *  0: Typical angina: chest pain related decrease blood supply to the heart\n",
        "   * 1: Atypical angina: chest pain not related to heart\n",
        "   * 2: Non-anginal pain: typically esophageal spasms (non heart related)\n",
        "   * 3: Asymptomatic: chest pain not showing signs of disease\n",
        "\n",
        "4. trestbps - resting blood pressure (in mm Hg on admission to the hospital) anything above 130-140 is typically cause for concern\n",
        "5. chol - serum cholestoral in mg/dl \n",
        "serum = LDL + HDL + .2  *triglyceridesabove 200 is cause for concern\n",
        "\n",
        "6. fbs - (fasting blood sugar > 120 mg/dl) (1 = true; 0 = false) '>126' mg/dL signals diabetes\n",
        "\n",
        "7. restecg - resting electrocardiographic results\n",
        "    * 0: Nothing to note\n",
        "    * 1: ST-T Wave abnormality can range from mild symptoms to severe problems signals non-normal heart beat\n",
        "    * 2: Possible or definite left ventricular hypertrophy Enlarged heart's main pumping chamber\n",
        "\n",
        "8. thalach - maximum heart rate achieved\n",
        "9. exang - exercise induced angina (1 = yes; 0 = no)\n",
        "10. oldpeak - ST depression induced by exercise relative to rest looks at stress of heart during excercise unhealthy heart will stress more\n",
        "11. slope - the slope of the peak exercise ST segment\n",
        "    * 0: Upsloping: better heart rate with excercise (uncommon)\n",
        "    * 1: Flatsloping: minimal change (typical healthy heart)\n",
        "    * 2: Downslopins: signs of unhealthy heart\n",
        "\n",
        "12. ca - number of major vessels (0-3) colored by flourosopy\n",
        "    * colored vessel means the doctor can see the blood passing through\n",
        "    * the more blood movement the better (no clots)\n",
        "\n",
        "13. thal - thalium stress result\n",
        "\n",
        "    * 1,3: normal\n",
        "    * 6: fixed defect: used to be defect but ok now\n",
        "    * 7: reversable defect: no proper blood movement when excercising\n",
        "\n",
        "14. target - have disease or not (1=yes, 0=no) (= the predicted attribute)\n",
        "\n",
        "\n"
      ]
    },
    {
      "cell_type": "markdown",
      "metadata": {
        "id": "i6KyH9T7B1H6"
      },
      "source": [
        "## Preparing the tools\n",
        "*** We are going to use pandas,matplotlib,Numpy  for data analysis and manipulation ***\n"
      ]
    },
    {
      "cell_type": "code",
      "metadata": {
        "id": "M9mT-1UWB82G"
      },
      "source": [
        "# Import all the tools we need\n",
        "\n",
        "# Regular EDA (exploratory data analysis) and plotting libraries\n",
        "\n",
        "import numpy as np\n",
        "import pandas as pd\n",
        "import matplotlib.pyplot as plt\n",
        "import seaborn as sns\n",
        "\n",
        "# We want our plots to appear inside the notebook\n",
        "%matplotlib inline \n",
        "\n",
        "# Modles from Scikit-Learn\n",
        "from sklearn.linear_model import LogisticRegression\n",
        "from sklearn.neighbors import KNeighborsClassifier\n",
        "from sklearn.ensemble import RandomForestClassifier\n",
        "\n",
        "# Model evaluations\n",
        "from sklearn.model_selection import train_test_split,cross_val_score\n",
        "from sklearn.model_selection import RandomizedSearchCV,GridSearchCV\n",
        "from sklearn.metrics import confusion_matrix,classification_report\n",
        "from sklearn.metrics import precision_score,recall_score,f1_score\n",
        "from sklearn.metrics import plot_roc_curve"
      ],
      "execution_count": null,
      "outputs": []
    },
    {
      "cell_type": "code",
      "metadata": {
        "id": "RMgg10dFQhvO"
      },
      "source": [
        "# Make all figsizes 10,6 10 inches wide ,6 inches height with rc param\n",
        "plt.rcParams[\"figure.figsize\"] = (10,6)"
      ],
      "execution_count": null,
      "outputs": []
    },
    {
      "cell_type": "markdown",
      "metadata": {
        "id": "9dKInutlFYpx"
      },
      "source": [
        "#Load data"
      ]
    },
    {
      "cell_type": "code",
      "metadata": {
        "colab": {
          "base_uri": "https://localhost:8080/"
        },
        "id": "iGe-IlS7FbIS",
        "outputId": "730ecd1d-54f9-4a93-b821-4833f35def3b"
      },
      "source": [
        "df = pd.read_csv(\"/content/drive/MyDrive/machine_learning/data/heart-disease.csv\")\n",
        "df.shape"
      ],
      "execution_count": null,
      "outputs": [
        {
          "output_type": "execute_result",
          "data": {
            "text/plain": [
              "(303, 14)"
            ]
          },
          "metadata": {
            "tags": []
          },
          "execution_count": 5
        }
      ]
    },
    {
      "cell_type": "code",
      "metadata": {
        "colab": {
          "base_uri": "https://localhost:8080/"
        },
        "id": "6snEcM8HFh8m",
        "outputId": "632d03e9-337b-4c14-82a4-2e72942eccb2"
      },
      "source": [
        "df.dtypes"
      ],
      "execution_count": null,
      "outputs": [
        {
          "output_type": "execute_result",
          "data": {
            "text/plain": [
              "age           int64\n",
              "sex           int64\n",
              "cp            int64\n",
              "trestbps      int64\n",
              "chol          int64\n",
              "fbs           int64\n",
              "restecg       int64\n",
              "thalach       int64\n",
              "exang         int64\n",
              "oldpeak     float64\n",
              "slope         int64\n",
              "ca            int64\n",
              "thal          int64\n",
              "target        int64\n",
              "dtype: object"
            ]
          },
          "metadata": {
            "tags": []
          },
          "execution_count": 6
        }
      ]
    },
    {
      "cell_type": "markdown",
      "metadata": {
        "id": "YmaAjtEhF4Sa"
      },
      "source": [
        "## Data exploration (Exploratory data analysis or EDA)\n",
        "\n",
        "The goal here is to find out more about the data and become a su5.bject matter export on the dataset you are working on\n",
        "\n",
        "1. What questions are you trying to solve\n",
        "2. What kind of data do we have and how do we treat different types\n",
        "3. What's missing from the data and how do you deal with it\n",
        "4. Where are the outliers and why should you care about them\n",
        "5. How can you add,change or remove features to get more out of your data\n"
      ]
    },
    {
      "cell_type": "code",
      "metadata": {
        "colab": {
          "base_uri": "https://localhost:8080/",
          "height": 226
        },
        "id": "UZ-EtFMkF80K",
        "outputId": "377a4df5-cf6f-4350-f3c7-9cef0cfc8654"
      },
      "source": [
        "df.head()"
      ],
      "execution_count": null,
      "outputs": [
        {
          "output_type": "execute_result",
          "data": {
            "text/html": [
              "<div>\n",
              "<style scoped>\n",
              "    .dataframe tbody tr th:only-of-type {\n",
              "        vertical-align: middle;\n",
              "    }\n",
              "\n",
              "    .dataframe tbody tr th {\n",
              "        vertical-align: top;\n",
              "    }\n",
              "\n",
              "    .dataframe thead th {\n",
              "        text-align: right;\n",
              "    }\n",
              "</style>\n",
              "<table border=\"1\" class=\"dataframe\">\n",
              "  <thead>\n",
              "    <tr style=\"text-align: right;\">\n",
              "      <th></th>\n",
              "      <th>age</th>\n",
              "      <th>sex</th>\n",
              "      <th>cp</th>\n",
              "      <th>trestbps</th>\n",
              "      <th>chol</th>\n",
              "      <th>fbs</th>\n",
              "      <th>restecg</th>\n",
              "      <th>thalach</th>\n",
              "      <th>exang</th>\n",
              "      <th>oldpeak</th>\n",
              "      <th>slope</th>\n",
              "      <th>ca</th>\n",
              "      <th>thal</th>\n",
              "      <th>target</th>\n",
              "    </tr>\n",
              "  </thead>\n",
              "  <tbody>\n",
              "    <tr>\n",
              "      <th>0</th>\n",
              "      <td>63</td>\n",
              "      <td>1</td>\n",
              "      <td>3</td>\n",
              "      <td>145</td>\n",
              "      <td>233</td>\n",
              "      <td>1</td>\n",
              "      <td>0</td>\n",
              "      <td>150</td>\n",
              "      <td>0</td>\n",
              "      <td>2.3</td>\n",
              "      <td>0</td>\n",
              "      <td>0</td>\n",
              "      <td>1</td>\n",
              "      <td>1</td>\n",
              "    </tr>\n",
              "    <tr>\n",
              "      <th>1</th>\n",
              "      <td>37</td>\n",
              "      <td>1</td>\n",
              "      <td>2</td>\n",
              "      <td>130</td>\n",
              "      <td>250</td>\n",
              "      <td>0</td>\n",
              "      <td>1</td>\n",
              "      <td>187</td>\n",
              "      <td>0</td>\n",
              "      <td>3.5</td>\n",
              "      <td>0</td>\n",
              "      <td>0</td>\n",
              "      <td>2</td>\n",
              "      <td>1</td>\n",
              "    </tr>\n",
              "    <tr>\n",
              "      <th>2</th>\n",
              "      <td>41</td>\n",
              "      <td>0</td>\n",
              "      <td>1</td>\n",
              "      <td>130</td>\n",
              "      <td>204</td>\n",
              "      <td>0</td>\n",
              "      <td>0</td>\n",
              "      <td>172</td>\n",
              "      <td>0</td>\n",
              "      <td>1.4</td>\n",
              "      <td>2</td>\n",
              "      <td>0</td>\n",
              "      <td>2</td>\n",
              "      <td>1</td>\n",
              "    </tr>\n",
              "    <tr>\n",
              "      <th>3</th>\n",
              "      <td>56</td>\n",
              "      <td>1</td>\n",
              "      <td>1</td>\n",
              "      <td>120</td>\n",
              "      <td>236</td>\n",
              "      <td>0</td>\n",
              "      <td>1</td>\n",
              "      <td>178</td>\n",
              "      <td>0</td>\n",
              "      <td>0.8</td>\n",
              "      <td>2</td>\n",
              "      <td>0</td>\n",
              "      <td>2</td>\n",
              "      <td>1</td>\n",
              "    </tr>\n",
              "    <tr>\n",
              "      <th>4</th>\n",
              "      <td>57</td>\n",
              "      <td>0</td>\n",
              "      <td>0</td>\n",
              "      <td>120</td>\n",
              "      <td>354</td>\n",
              "      <td>0</td>\n",
              "      <td>1</td>\n",
              "      <td>163</td>\n",
              "      <td>1</td>\n",
              "      <td>0.6</td>\n",
              "      <td>2</td>\n",
              "      <td>0</td>\n",
              "      <td>2</td>\n",
              "      <td>1</td>\n",
              "    </tr>\n",
              "  </tbody>\n",
              "</table>\n",
              "</div>"
            ],
            "text/plain": [
              "   age  sex  cp  trestbps  chol  fbs  ...  exang  oldpeak  slope  ca  thal  target\n",
              "0   63    1   3       145   233    1  ...      0      2.3      0   0     1       1\n",
              "1   37    1   2       130   250    0  ...      0      3.5      0   0     2       1\n",
              "2   41    0   1       130   204    0  ...      0      1.4      2   0     2       1\n",
              "3   56    1   1       120   236    0  ...      0      0.8      2   0     2       1\n",
              "4   57    0   0       120   354    0  ...      1      0.6      2   0     2       1\n",
              "\n",
              "[5 rows x 14 columns]"
            ]
          },
          "metadata": {
            "tags": []
          },
          "execution_count": 7
        }
      ]
    },
    {
      "cell_type": "code",
      "metadata": {
        "colab": {
          "base_uri": "https://localhost:8080/",
          "height": 226
        },
        "id": "IIDITna1GjmG",
        "outputId": "19242f80-6cd1-4b96-cd08-1d2594530699"
      },
      "source": [
        "df.tail()"
      ],
      "execution_count": null,
      "outputs": [
        {
          "output_type": "execute_result",
          "data": {
            "text/html": [
              "<div>\n",
              "<style scoped>\n",
              "    .dataframe tbody tr th:only-of-type {\n",
              "        vertical-align: middle;\n",
              "    }\n",
              "\n",
              "    .dataframe tbody tr th {\n",
              "        vertical-align: top;\n",
              "    }\n",
              "\n",
              "    .dataframe thead th {\n",
              "        text-align: right;\n",
              "    }\n",
              "</style>\n",
              "<table border=\"1\" class=\"dataframe\">\n",
              "  <thead>\n",
              "    <tr style=\"text-align: right;\">\n",
              "      <th></th>\n",
              "      <th>age</th>\n",
              "      <th>sex</th>\n",
              "      <th>cp</th>\n",
              "      <th>trestbps</th>\n",
              "      <th>chol</th>\n",
              "      <th>fbs</th>\n",
              "      <th>restecg</th>\n",
              "      <th>thalach</th>\n",
              "      <th>exang</th>\n",
              "      <th>oldpeak</th>\n",
              "      <th>slope</th>\n",
              "      <th>ca</th>\n",
              "      <th>thal</th>\n",
              "      <th>target</th>\n",
              "    </tr>\n",
              "  </thead>\n",
              "  <tbody>\n",
              "    <tr>\n",
              "      <th>298</th>\n",
              "      <td>57</td>\n",
              "      <td>0</td>\n",
              "      <td>0</td>\n",
              "      <td>140</td>\n",
              "      <td>241</td>\n",
              "      <td>0</td>\n",
              "      <td>1</td>\n",
              "      <td>123</td>\n",
              "      <td>1</td>\n",
              "      <td>0.2</td>\n",
              "      <td>1</td>\n",
              "      <td>0</td>\n",
              "      <td>3</td>\n",
              "      <td>0</td>\n",
              "    </tr>\n",
              "    <tr>\n",
              "      <th>299</th>\n",
              "      <td>45</td>\n",
              "      <td>1</td>\n",
              "      <td>3</td>\n",
              "      <td>110</td>\n",
              "      <td>264</td>\n",
              "      <td>0</td>\n",
              "      <td>1</td>\n",
              "      <td>132</td>\n",
              "      <td>0</td>\n",
              "      <td>1.2</td>\n",
              "      <td>1</td>\n",
              "      <td>0</td>\n",
              "      <td>3</td>\n",
              "      <td>0</td>\n",
              "    </tr>\n",
              "    <tr>\n",
              "      <th>300</th>\n",
              "      <td>68</td>\n",
              "      <td>1</td>\n",
              "      <td>0</td>\n",
              "      <td>144</td>\n",
              "      <td>193</td>\n",
              "      <td>1</td>\n",
              "      <td>1</td>\n",
              "      <td>141</td>\n",
              "      <td>0</td>\n",
              "      <td>3.4</td>\n",
              "      <td>1</td>\n",
              "      <td>2</td>\n",
              "      <td>3</td>\n",
              "      <td>0</td>\n",
              "    </tr>\n",
              "    <tr>\n",
              "      <th>301</th>\n",
              "      <td>57</td>\n",
              "      <td>1</td>\n",
              "      <td>0</td>\n",
              "      <td>130</td>\n",
              "      <td>131</td>\n",
              "      <td>0</td>\n",
              "      <td>1</td>\n",
              "      <td>115</td>\n",
              "      <td>1</td>\n",
              "      <td>1.2</td>\n",
              "      <td>1</td>\n",
              "      <td>1</td>\n",
              "      <td>3</td>\n",
              "      <td>0</td>\n",
              "    </tr>\n",
              "    <tr>\n",
              "      <th>302</th>\n",
              "      <td>57</td>\n",
              "      <td>0</td>\n",
              "      <td>1</td>\n",
              "      <td>130</td>\n",
              "      <td>236</td>\n",
              "      <td>0</td>\n",
              "      <td>0</td>\n",
              "      <td>174</td>\n",
              "      <td>0</td>\n",
              "      <td>0.0</td>\n",
              "      <td>1</td>\n",
              "      <td>1</td>\n",
              "      <td>2</td>\n",
              "      <td>0</td>\n",
              "    </tr>\n",
              "  </tbody>\n",
              "</table>\n",
              "</div>"
            ],
            "text/plain": [
              "     age  sex  cp  trestbps  chol  fbs  ...  exang  oldpeak  slope  ca  thal  target\n",
              "298   57    0   0       140   241    0  ...      1      0.2      1   0     3       0\n",
              "299   45    1   3       110   264    0  ...      0      1.2      1   0     3       0\n",
              "300   68    1   0       144   193    1  ...      0      3.4      1   2     3       0\n",
              "301   57    1   0       130   131    0  ...      1      1.2      1   1     3       0\n",
              "302   57    0   1       130   236    0  ...      0      0.0      1   1     2       0\n",
              "\n",
              "[5 rows x 14 columns]"
            ]
          },
          "metadata": {
            "tags": []
          },
          "execution_count": 8
        }
      ]
    },
    {
      "cell_type": "code",
      "metadata": {
        "colab": {
          "base_uri": "https://localhost:8080/"
        },
        "id": "8d4q0VIvGl-c",
        "outputId": "bd8f4c3c-85a2-442c-ce79-f7122e12969c"
      },
      "source": [
        "# Lets find how many of each class we have\n",
        "df[\"target\"].value_counts()"
      ],
      "execution_count": null,
      "outputs": [
        {
          "output_type": "execute_result",
          "data": {
            "text/plain": [
              "1    165\n",
              "0    138\n",
              "Name: target, dtype: int64"
            ]
          },
          "metadata": {
            "tags": []
          },
          "execution_count": 9
        }
      ]
    },
    {
      "cell_type": "code",
      "metadata": {
        "colab": {
          "base_uri": "https://localhost:8080/",
          "height": 370
        },
        "id": "q_4-s14nGoz2",
        "outputId": "2069e1c9-d8ec-48f6-f443-9c0ac9025307"
      },
      "source": [
        "df[\"target\"].value_counts().plot(kind=\"bar\",color=[\"salmon\",\"lightblue\"]);"
      ],
      "execution_count": null,
      "outputs": [
        {
          "output_type": "display_data",
          "data": {
            "image/png": "[encoded data removed]",
            "text/plain": [
              "<Figure size 720x432 with 1 Axes>"
            ]
          },
          "metadata": {
            "tags": [],
            "needs_background": "light"
          }
        }
      ]
    },
    {
      "cell_type": "code",
      "metadata": {
        "colab": {
          "base_uri": "https://localhost:8080/"
        },
        "id": "s6dEzHTwG8vN",
        "outputId": "484ced10-0e11-4a13-ec17-44d7b17839f1"
      },
      "source": [
        "df.info()"
      ],
      "execution_count": null,
      "outputs": [
        {
          "output_type": "stream",
          "text": [
            "<class 'pandas.core.frame.DataFrame'>\n",
            "RangeIndex: 303 entries, 0 to 302\n",
            "Data columns (total 14 columns):\n",
            " #   Column    Non-Null Count  Dtype  \n",
            "---  ------    --------------  -----  \n",
            " 0   age       303 non-null    int64  \n",
            " 1   sex       303 non-null    int64  \n",
            " 2   cp        303 non-null    int64  \n",
            " 3   trestbps  303 non-null    int64  \n",
            " 4   chol      303 non-null    int64  \n",
            " 5   fbs       303 non-null    int64  \n",
            " 6   restecg   303 non-null    int64  \n",
            " 7   thalach   303 non-null    int64  \n",
            " 8   exang     303 non-null    int64  \n",
            " 9   oldpeak   303 non-null    float64\n",
            " 10  slope     303 non-null    int64  \n",
            " 11  ca        303 non-null    int64  \n",
            " 12  thal      303 non-null    int64  \n",
            " 13  target    303 non-null    int64  \n",
            "dtypes: float64(1), int64(13)\n",
            "memory usage: 33.3 KB\n"
          ],
          "name": "stdout"
        }
      ]
    },
    {
      "cell_type": "code",
      "metadata": {
        "colab": {
          "base_uri": "https://localhost:8080/"
        },
        "id": "62egZtDHHCB_",
        "outputId": "20243ae1-69af-4b1e-ce4e-12b175be2124"
      },
      "source": [
        "# Are there any missing values\n",
        "df.isna().sum()"
      ],
      "execution_count": null,
      "outputs": [
        {
          "output_type": "execute_result",
          "data": {
            "text/plain": [
              "age         0\n",
              "sex         0\n",
              "cp          0\n",
              "trestbps    0\n",
              "chol        0\n",
              "fbs         0\n",
              "restecg     0\n",
              "thalach     0\n",
              "exang       0\n",
              "oldpeak     0\n",
              "slope       0\n",
              "ca          0\n",
              "thal        0\n",
              "target      0\n",
              "dtype: int64"
            ]
          },
          "metadata": {
            "tags": []
          },
          "execution_count": 12
        }
      ]
    },
    {
      "cell_type": "code",
      "metadata": {
        "colab": {
          "base_uri": "https://localhost:8080/",
          "height": 320
        },
        "id": "FcucFVQuHRtx",
        "outputId": "fdc7c66b-c056-4b21-e219-4fdbf3123716"
      },
      "source": [
        "df.describe()"
      ],
      "execution_count": null,
      "outputs": [
        {
          "output_type": "execute_result",
          "data": {
            "text/html": [
              "<div>\n",
              "<style scoped>\n",
              "    .dataframe tbody tr th:only-of-type {\n",
              "        vertical-align: middle;\n",
              "    }\n",
              "\n",
              "    .dataframe tbody tr th {\n",
              "        vertical-align: top;\n",
              "    }\n",
              "\n",
              "    .dataframe thead th {\n",
              "        text-align: right;\n",
              "    }\n",
              "</style>\n",
              "<table border=\"1\" class=\"dataframe\">\n",
              "  <thead>\n",
              "    <tr style=\"text-align: right;\">\n",
              "      <th></th>\n",
              "      <th>age</th>\n",
              "      <th>sex</th>\n",
              "      <th>cp</th>\n",
              "      <th>trestbps</th>\n",
              "      <th>chol</th>\n",
              "      <th>fbs</th>\n",
              "      <th>restecg</th>\n",
              "      <th>thalach</th>\n",
              "      <th>exang</th>\n",
              "      <th>oldpeak</th>\n",
              "      <th>slope</th>\n",
              "      <th>ca</th>\n",
              "      <th>thal</th>\n",
              "      <th>target</th>\n",
              "    </tr>\n",
              "  </thead>\n",
              "  <tbody>\n",
              "    <tr>\n",
              "      <th>count</th>\n",
              "      <td>303.000000</td>\n",
              "      <td>303.000000</td>\n",
              "      <td>303.000000</td>\n",
              "      <td>303.000000</td>\n",
              "      <td>303.000000</td>\n",
              "      <td>303.000000</td>\n",
              "      <td>303.000000</td>\n",
              "      <td>303.000000</td>\n",
              "      <td>303.000000</td>\n",
              "      <td>303.000000</td>\n",
              "      <td>303.000000</td>\n",
              "      <td>303.000000</td>\n",
              "      <td>303.000000</td>\n",
              "      <td>303.000000</td>\n",
              "    </tr>\n",
              "    <tr>\n",
              "      <th>mean</th>\n",
              "      <td>54.366337</td>\n",
              "      <td>0.683168</td>\n",
              "      <td>0.966997</td>\n",
              "      <td>131.623762</td>\n",
              "      <td>246.264026</td>\n",
              "      <td>0.148515</td>\n",
              "      <td>0.528053</td>\n",
              "      <td>149.646865</td>\n",
              "      <td>0.326733</td>\n",
              "      <td>1.039604</td>\n",
              "      <td>1.399340</td>\n",
              "      <td>0.729373</td>\n",
              "      <td>2.313531</td>\n",
              "      <td>0.544554</td>\n",
              "    </tr>\n",
              "    <tr>\n",
              "      <th>std</th>\n",
              "      <td>9.082101</td>\n",
              "      <td>0.466011</td>\n",
              "      <td>1.032052</td>\n",
              "      <td>17.538143</td>\n",
              "      <td>51.830751</td>\n",
              "      <td>0.356198</td>\n",
              "      <td>0.525860</td>\n",
              "      <td>22.905161</td>\n",
              "      <td>0.469794</td>\n",
              "      <td>1.161075</td>\n",
              "      <td>0.616226</td>\n",
              "      <td>1.022606</td>\n",
              "      <td>0.612277</td>\n",
              "      <td>0.498835</td>\n",
              "    </tr>\n",
              "    <tr>\n",
              "      <th>min</th>\n",
              "      <td>29.000000</td>\n",
              "      <td>0.000000</td>\n",
              "      <td>0.000000</td>\n",
              "      <td>94.000000</td>\n",
              "      <td>126.000000</td>\n",
              "      <td>0.000000</td>\n",
              "      <td>0.000000</td>\n",
              "      <td>71.000000</td>\n",
              "      <td>0.000000</td>\n",
              "      <td>0.000000</td>\n",
              "      <td>0.000000</td>\n",
              "      <td>0.000000</td>\n",
              "      <td>0.000000</td>\n",
              "      <td>0.000000</td>\n",
              "    </tr>\n",
              "    <tr>\n",
              "      <th>25%</th>\n",
              "      <td>47.500000</td>\n",
              "      <td>0.000000</td>\n",
              "      <td>0.000000</td>\n",
              "      <td>120.000000</td>\n",
              "      <td>211.000000</td>\n",
              "      <td>0.000000</td>\n",
              "      <td>0.000000</td>\n",
              "      <td>133.500000</td>\n",
              "      <td>0.000000</td>\n",
              "      <td>0.000000</td>\n",
              "      <td>1.000000</td>\n",
              "      <td>0.000000</td>\n",
              "      <td>2.000000</td>\n",
              "      <td>0.000000</td>\n",
              "    </tr>\n",
              "    <tr>\n",
              "      <th>50%</th>\n",
              "      <td>55.000000</td>\n",
              "      <td>1.000000</td>\n",
              "      <td>1.000000</td>\n",
              "      <td>130.000000</td>\n",
              "      <td>240.000000</td>\n",
              "      <td>0.000000</td>\n",
              "      <td>1.000000</td>\n",
              "      <td>153.000000</td>\n",
              "      <td>0.000000</td>\n",
              "      <td>0.800000</td>\n",
              "      <td>1.000000</td>\n",
              "      <td>0.000000</td>\n",
              "      <td>2.000000</td>\n",
              "      <td>1.000000</td>\n",
              "    </tr>\n",
              "    <tr>\n",
              "      <th>75%</th>\n",
              "      <td>61.000000</td>\n",
              "      <td>1.000000</td>\n",
              "      <td>2.000000</td>\n",
              "      <td>140.000000</td>\n",
              "      <td>274.500000</td>\n",
              "      <td>0.000000</td>\n",
              "      <td>1.000000</td>\n",
              "      <td>166.000000</td>\n",
              "      <td>1.000000</td>\n",
              "      <td>1.600000</td>\n",
              "      <td>2.000000</td>\n",
              "      <td>1.000000</td>\n",
              "      <td>3.000000</td>\n",
              "      <td>1.000000</td>\n",
              "    </tr>\n",
              "    <tr>\n",
              "      <th>max</th>\n",
              "      <td>77.000000</td>\n",
              "      <td>1.000000</td>\n",
              "      <td>3.000000</td>\n",
              "      <td>200.000000</td>\n",
              "      <td>564.000000</td>\n",
              "      <td>1.000000</td>\n",
              "      <td>2.000000</td>\n",
              "      <td>202.000000</td>\n",
              "      <td>1.000000</td>\n",
              "      <td>6.200000</td>\n",
              "      <td>2.000000</td>\n",
              "      <td>4.000000</td>\n",
              "      <td>3.000000</td>\n",
              "      <td>1.000000</td>\n",
              "    </tr>\n",
              "  </tbody>\n",
              "</table>\n",
              "</div>"
            ],
            "text/plain": [
              "              age         sex          cp  ...          ca        thal      target\n",
              "count  303.000000  303.000000  303.000000  ...  303.000000  303.000000  303.000000\n",
              "mean    54.366337    0.683168    0.966997  ...    0.729373    2.313531    0.544554\n",
              "std      9.082101    0.466011    1.032052  ...    1.022606    0.612277    0.498835\n",
              "min     29.000000    0.000000    0.000000  ...    0.000000    0.000000    0.000000\n",
              "25%     47.500000    0.000000    0.000000  ...    0.000000    2.000000    0.000000\n",
              "50%     55.000000    1.000000    1.000000  ...    0.000000    2.000000    1.000000\n",
              "75%     61.000000    1.000000    2.000000  ...    1.000000    3.000000    1.000000\n",
              "max     77.000000    1.000000    3.000000  ...    4.000000    3.000000    1.000000\n",
              "\n",
              "[8 rows x 14 columns]"
            ]
          },
          "metadata": {
            "tags": []
          },
          "execution_count": 13
        }
      ]
    },
    {
      "cell_type": "markdown",
      "metadata": {
        "id": "2Yrc4SmCHx65"
      },
      "source": [
        "## Heart disease Frequency accoding to sex\n"
      ]
    },
    {
      "cell_type": "code",
      "metadata": {
        "colab": {
          "base_uri": "https://localhost:8080/"
        },
        "id": "DfKtxXivH3ID",
        "outputId": "b2607c88-2cb1-4121-92b7-63aaa356d2d2"
      },
      "source": [
        "df.sex.value_counts()"
      ],
      "execution_count": null,
      "outputs": [
        {
          "output_type": "execute_result",
          "data": {
            "text/plain": [
              "1    207\n",
              "0     96\n",
              "Name: sex, dtype: int64"
            ]
          },
          "metadata": {
            "tags": []
          },
          "execution_count": 14
        }
      ]
    },
    {
      "cell_type": "code",
      "metadata": {
        "colab": {
          "base_uri": "https://localhost:8080/"
        },
        "id": "zgLgc0xAH4yY",
        "outputId": "e253c8fe-b388-4bc1-8ef8-10209af265c7"
      },
      "source": [
        "# Compare target column with sex column\n",
        "pd.crosstab(df.target,df.sex)"
      ],
      "execution_count": null,
      "outputs": [
        {
          "output_type": "execute_result",
          "data": {
            "text/html": [
              "<div>\n",
              "<style scoped>\n",
              "    .dataframe tbody tr th:only-of-type {\n",
              "        vertical-align: middle;\n",
              "    }\n",
              "\n",
              "    .dataframe tbody tr th {\n",
              "        vertical-align: top;\n",
              "    }\n",
              "\n",
              "    .dataframe thead th {\n",
              "        text-align: right;\n",
              "    }\n",
              "</style>\n",
              "<table border=\"1\" class=\"dataframe\">\n",
              "  <thead>\n",
              "    <tr style=\"text-align: right;\">\n",
              "      <th>sex</th>\n",
              "      <th>0</th>\n",
              "      <th>1</th>\n",
              "    </tr>\n",
              "    <tr>\n",
              "      <th>target</th>\n",
              "      <th></th>\n",
              "      <th></th>\n",
              "    </tr>\n",
              "  </thead>\n",
              "  <tbody>\n",
              "    <tr>\n",
              "      <th>0</th>\n",
              "      <td>24</td>\n",
              "      <td>114</td>\n",
              "    </tr>\n",
              "    <tr>\n",
              "      <th>1</th>\n",
              "      <td>72</td>\n",
              "      <td>93</td>\n",
              "    </tr>\n",
              "  </tbody>\n",
              "</table>\n",
              "</div>"
            ],
            "text/plain": [
              "sex      0    1\n",
              "target         \n",
              "0       24  114\n",
              "1       72   93"
            ]
          },
          "metadata": {
            "tags": []
          },
          "execution_count": 15
        }
      ]
    },
    {
      "cell_type": "code",
      "metadata": {
        "colab": {
          "base_uri": "https://localhost:8080/"
        },
        "id": "BSt0AkcZIG_P",
        "outputId": "76a32e45-e517-46ab-9895-767926f66971"
      },
      "source": [
        "# Create a plot of crosstab\n",
        "\n",
        "pd.crosstab(df[\"target\"],df[\"sex\"]).plot(kind=\"bar\",\n",
        "                                         figsize=(10,6),\n",
        "                                         color=[\"salmon\",\"lightblue\"])\n",
        "\n",
        "plt.title(\"Heart disease frequency for Sex\")\n",
        "plt.xlabel(\"0 = No disease,1 = Disease\")\n",
        "plt.ylabel(\"Amount of people\")\n",
        "plt.legend([\"Female\",\"Male\"])\n",
        "plt.xticks(rotation=0);"
      ],
      "execution_count": null,
      "outputs": [
        {
          "output_type": "display_data",
          "data": {
            "image/png": "[encoded data removed]",
            "text/plain": [
              "<Figure size 720x432 with 1 Axes>"
            ]
          },
          "metadata": {
            "tags": [],
            "needs_background": "light"
          }
        }
      ]
    },
    {
      "cell_type": "code",
      "metadata": {
        "colab": {
          "base_uri": "https://localhost:8080/"
        },
        "id": "quEPsUoNLBI1",
        "outputId": "e0cc3479-72e2-430e-a3d0-c749f9adc900"
      },
      "source": [
        "df[\"thalach\"].value_counts()"
      ],
      "execution_count": null,
      "outputs": [
        {
          "output_type": "execute_result",
          "data": {
            "text/plain": [
              "162    11\n",
              "160     9\n",
              "163     9\n",
              "173     8\n",
              "152     8\n",
              "       ..\n",
              "129     1\n",
              "128     1\n",
              "127     1\n",
              "124     1\n",
              "71      1\n",
              "Name: thalach, Length: 91, dtype: int64"
            ]
          },
          "metadata": {
            "tags": []
          },
          "execution_count": 17
        }
      ]
    },
    {
      "cell_type": "markdown",
      "metadata": {
        "id": "xHmfYAJtMXil"
      },
      "source": [
        "##  **Age vs Max Heart Rate for Heart Disease**"
      ]
    },
    {
      "cell_type": "code",
      "metadata": {
        "colab": {
          "base_uri": "https://localhost:8080/"
        },
        "id": "LirMh278MhX0",
        "outputId": "d2da7a7a-f461-474f-a5ca-9a9ac56edab8"
      },
      "source": [
        "# Create another figure\n",
        "plt.figure(figsize=(10,6))\n",
        "\n",
        "# Scatter with positive examples\n",
        "plt.scatter(df.age[df.target==1],\n",
        "            df.thalach[df.target==1],\n",
        "            color=\"salmon\");\n",
        "\n",
        "# Scattee with negative examples\n",
        "plt.scatter(df.age[df.target==0],\n",
        "            df.thalach[df.target==0],\n",
        "            color=\"lightblue\")\n",
        "\n",
        "# Add some helpfull info\n",
        "plt.title(\"Heart Disease in function of age and max heart rate\")\n",
        "plt.xlabel(\"Age\"),\n",
        "plt.ylabel(\"Max Heart Rate\")\n",
        "plt.legend([\"Disease\",\"No Disease\"]);"
      ],
      "execution_count": null,
      "outputs": [
        {
          "output_type": "display_data",
          "data": {
            "image/png": "[encoded data removed]",
            "text/plain": [
              "<Figure size 720x432 with 1 Axes>"
            ]
          },
          "metadata": {
            "tags": [],
            "needs_background": "light"
          }
        }
      ]
    },
    {
      "cell_type": "code",
      "metadata": {
        "colab": {
          "base_uri": "https://localhost:8080/"
        },
        "id": "We2yx4O7MmRD",
        "outputId": "3e71b0a8-bd76-4153-f73e-1cde1535b3d2"
      },
      "source": [
        "# Check the distribution of the age column with a histogram\n",
        "df.age.plot.hist();"
      ],
      "execution_count": null,
      "outputs": [
        {
          "output_type": "display_data",
          "data": {
            "image/png": "[encoded data removed]",
            "text/plain": [
              "<Figure size 720x432 with 1 Axes>"
            ]
          },
          "metadata": {
            "tags": [],
            "needs_background": "light"
          }
        }
      ]
    },
    {
      "cell_type": "markdown",
      "metadata": {
        "id": "F6uHQD1LPGhx"
      },
      "source": [
        "# **Heart Disease Frequency for chest pain type**\n",
        "\n",
        "3. cp - chest pain type:\n",
        "\n",
        "    * 0: Typical angina: chest pain related decrease blood supply to the heart\n",
        "    * 1: Atypical angina: chest pain not related to heart\n",
        "    * 2: Non-anginal pain: typically esophageal spasms (non heart related)\n",
        "    * 3: Asymptomatic: chest pain not showing signs of disease\n",
        "\n"
      ]
    },
    {
      "cell_type": "code",
      "metadata": {
        "colab": {
          "base_uri": "https://localhost:8080/",
          "height": 206
        },
        "id": "pGmyYuCAPNSf",
        "outputId": "48d36cdb-d86d-4d6a-9905-47dda4936ef2"
      },
      "source": [
        "pd.crosstab(df.cp,df.target)"
      ],
      "execution_count": null,
      "outputs": [
        {
          "output_type": "execute_result",
          "data": {
            "text/html": [
              "<div>\n",
              "<style scoped>\n",
              "    .dataframe tbody tr th:only-of-type {\n",
              "        vertical-align: middle;\n",
              "    }\n",
              "\n",
              "    .dataframe tbody tr th {\n",
              "        vertical-align: top;\n",
              "    }\n",
              "\n",
              "    .dataframe thead th {\n",
              "        text-align: right;\n",
              "    }\n",
              "</style>\n",
              "<table border=\"1\" class=\"dataframe\">\n",
              "  <thead>\n",
              "    <tr style=\"text-align: right;\">\n",
              "      <th>target</th>\n",
              "      <th>0</th>\n",
              "      <th>1</th>\n",
              "    </tr>\n",
              "    <tr>\n",
              "      <th>cp</th>\n",
              "      <th></th>\n",
              "      <th></th>\n",
              "    </tr>\n",
              "  </thead>\n",
              "  <tbody>\n",
              "    <tr>\n",
              "      <th>0</th>\n",
              "      <td>104</td>\n",
              "      <td>39</td>\n",
              "    </tr>\n",
              "    <tr>\n",
              "      <th>1</th>\n",
              "      <td>9</td>\n",
              "      <td>41</td>\n",
              "    </tr>\n",
              "    <tr>\n",
              "      <th>2</th>\n",
              "      <td>18</td>\n",
              "      <td>69</td>\n",
              "    </tr>\n",
              "    <tr>\n",
              "      <th>3</th>\n",
              "      <td>7</td>\n",
              "      <td>16</td>\n",
              "    </tr>\n",
              "  </tbody>\n",
              "</table>\n",
              "</div>"
            ],
            "text/plain": [
              "target    0   1\n",
              "cp             \n",
              "0       104  39\n",
              "1         9  41\n",
              "2        18  69\n",
              "3         7  16"
            ]
          },
          "metadata": {
            "tags": []
          },
          "execution_count": 20
        }
      ]
    },
    {
      "cell_type": "code",
      "metadata": {
        "colab": {
          "base_uri": "https://localhost:8080/",
          "height": 404
        },
        "id": "eGtJ5JJMPeh7",
        "outputId": "dcdc398c-1a61-4390-a37b-40aa21efb93c"
      },
      "source": [
        "# Make the crosstab between the chest pain type and target more visual\n",
        "pd.crosstab(df.cp,df.target).plot(kind=\"bar\",\n",
        "                                  color=[\"salmon\",\"lightblue\"]);\n",
        "\n",
        "# Add some communication\n",
        "plt.title(\"Heart Disease Frequency Per Chest Pain Type\")\n",
        "plt.xlabel(\"Chest Pain Type\")\n",
        "plt.ylabel(\"Amount\")\n",
        "plt.legend([\"No Disease\",\"Disease\"])\n",
        "plt.xticks(rotation=0);"
      ],
      "execution_count": null,
      "outputs": [
        {
          "output_type": "display_data",
          "data": {
            "image/png": "[encoded data removed]",
            "text/plain": [
              "<Figure size 720x432 with 1 Axes>"
            ]
          },
          "metadata": {
            "tags": [],
            "needs_background": "light"
          }
        }
      ]
    },
    {
      "cell_type": "markdown",
      "metadata": {
        "id": "6AUli_gA58rb"
      },
      "source": [
        "## **Make a correlation matrix**"
      ]
    },
    {
      "cell_type": "code",
      "metadata": {
        "colab": {
          "base_uri": "https://localhost:8080/"
        },
        "id": "x3r4bHK16BjY",
        "outputId": "2295e5c3-b064-4a65-a0e8-9bf17054dd96"
      },
      "source": [
        "df.corr()"
      ],
      "execution_count": null,
      "outputs": [
        {
          "output_type": "execute_result",
          "data": {
            "text/html": [
              "<div>\n",
              "<style scoped>\n",
              "    .dataframe tbody tr th:only-of-type {\n",
              "        vertical-align: middle;\n",
              "    }\n",
              "\n",
              "    .dataframe tbody tr th {\n",
              "        vertical-align: top;\n",
              "    }\n",
              "\n",
              "    .dataframe thead th {\n",
              "        text-align: right;\n",
              "    }\n",
              "</style>\n",
              "<table border=\"1\" class=\"dataframe\">\n",
              "  <thead>\n",
              "    <tr style=\"text-align: right;\">\n",
              "      <th></th>\n",
              "      <th>age</th>\n",
              "      <th>sex</th>\n",
              "      <th>cp</th>\n",
              "      <th>trestbps</th>\n",
              "      <th>chol</th>\n",
              "      <th>fbs</th>\n",
              "      <th>restecg</th>\n",
              "      <th>thalach</th>\n",
              "      <th>exang</th>\n",
              "      <th>oldpeak</th>\n",
              "      <th>slope</th>\n",
              "      <th>ca</th>\n",
              "      <th>thal</th>\n",
              "      <th>target</th>\n",
              "    </tr>\n",
              "  </thead>\n",
              "  <tbody>\n",
              "    <tr>\n",
              "      <th>age</th>\n",
              "      <td>1.000000</td>\n",
              "      <td>-0.098447</td>\n",
              "      <td>-0.068653</td>\n",
              "      <td>0.279351</td>\n",
              "      <td>0.213678</td>\n",
              "      <td>0.121308</td>\n",
              "      <td>-0.116211</td>\n",
              "      <td>-0.398522</td>\n",
              "      <td>0.096801</td>\n",
              "      <td>0.210013</td>\n",
              "      <td>-0.168814</td>\n",
              "      <td>0.276326</td>\n",
              "      <td>0.068001</td>\n",
              "      <td>-0.225439</td>\n",
              "    </tr>\n",
              "    <tr>\n",
              "      <th>sex</th>\n",
              "      <td>-0.098447</td>\n",
              "      <td>1.000000</td>\n",
              "      <td>-0.049353</td>\n",
              "      <td>-0.056769</td>\n",
              "      <td>-0.197912</td>\n",
              "      <td>0.045032</td>\n",
              "      <td>-0.058196</td>\n",
              "      <td>-0.044020</td>\n",
              "      <td>0.141664</td>\n",
              "      <td>0.096093</td>\n",
              "      <td>-0.030711</td>\n",
              "      <td>0.118261</td>\n",
              "      <td>0.210041</td>\n",
              "      <td>-0.280937</td>\n",
              "    </tr>\n",
              "    <tr>\n",
              "      <th>cp</th>\n",
              "      <td>-0.068653</td>\n",
              "      <td>-0.049353</td>\n",
              "      <td>1.000000</td>\n",
              "      <td>0.047608</td>\n",
              "      <td>-0.076904</td>\n",
              "      <td>0.094444</td>\n",
              "      <td>0.044421</td>\n",
              "      <td>0.295762</td>\n",
              "      <td>-0.394280</td>\n",
              "      <td>-0.149230</td>\n",
              "      <td>0.119717</td>\n",
              "      <td>-0.181053</td>\n",
              "      <td>-0.161736</td>\n",
              "      <td>0.433798</td>\n",
              "    </tr>\n",
              "    <tr>\n",
              "      <th>trestbps</th>\n",
              "      <td>0.279351</td>\n",
              "      <td>-0.056769</td>\n",
              "      <td>0.047608</td>\n",
              "      <td>1.000000</td>\n",
              "      <td>0.123174</td>\n",
              "      <td>0.177531</td>\n",
              "      <td>-0.114103</td>\n",
              "      <td>-0.046698</td>\n",
              "      <td>0.067616</td>\n",
              "      <td>0.193216</td>\n",
              "      <td>-0.121475</td>\n",
              "      <td>0.101389</td>\n",
              "      <td>0.062210</td>\n",
              "      <td>-0.144931</td>\n",
              "    </tr>\n",
              "    <tr>\n",
              "      <th>chol</th>\n",
              "      <td>0.213678</td>\n",
              "      <td>-0.197912</td>\n",
              "      <td>-0.076904</td>\n",
              "      <td>0.123174</td>\n",
              "      <td>1.000000</td>\n",
              "      <td>0.013294</td>\n",
              "      <td>-0.151040</td>\n",
              "      <td>-0.009940</td>\n",
              "      <td>0.067023</td>\n",
              "      <td>0.053952</td>\n",
              "      <td>-0.004038</td>\n",
              "      <td>0.070511</td>\n",
              "      <td>0.098803</td>\n",
              "      <td>-0.085239</td>\n",
              "    </tr>\n",
              "    <tr>\n",
              "      <th>fbs</th>\n",
              "      <td>0.121308</td>\n",
              "      <td>0.045032</td>\n",
              "      <td>0.094444</td>\n",
              "      <td>0.177531</td>\n",
              "      <td>0.013294</td>\n",
              "      <td>1.000000</td>\n",
              "      <td>-0.084189</td>\n",
              "      <td>-0.008567</td>\n",
              "      <td>0.025665</td>\n",
              "      <td>0.005747</td>\n",
              "      <td>-0.059894</td>\n",
              "      <td>0.137979</td>\n",
              "      <td>-0.032019</td>\n",
              "      <td>-0.028046</td>\n",
              "    </tr>\n",
              "    <tr>\n",
              "      <th>restecg</th>\n",
              "      <td>-0.116211</td>\n",
              "      <td>-0.058196</td>\n",
              "      <td>0.044421</td>\n",
              "      <td>-0.114103</td>\n",
              "      <td>-0.151040</td>\n",
              "      <td>-0.084189</td>\n",
              "      <td>1.000000</td>\n",
              "      <td>0.044123</td>\n",
              "      <td>-0.070733</td>\n",
              "      <td>-0.058770</td>\n",
              "      <td>0.093045</td>\n",
              "      <td>-0.072042</td>\n",
              "      <td>-0.011981</td>\n",
              "      <td>0.137230</td>\n",
              "    </tr>\n",
              "    <tr>\n",
              "      <th>thalach</th>\n",
              "      <td>-0.398522</td>\n",
              "      <td>-0.044020</td>\n",
              "      <td>0.295762</td>\n",
              "      <td>-0.046698</td>\n",
              "      <td>-0.009940</td>\n",
              "      <td>-0.008567</td>\n",
              "      <td>0.044123</td>\n",
              "      <td>1.000000</td>\n",
              "      <td>-0.378812</td>\n",
              "      <td>-0.344187</td>\n",
              "      <td>0.386784</td>\n",
              "      <td>-0.213177</td>\n",
              "      <td>-0.096439</td>\n",
              "      <td>0.421741</td>\n",
              "    </tr>\n",
              "    <tr>\n",
              "      <th>exang</th>\n",
              "      <td>0.096801</td>\n",
              "      <td>0.141664</td>\n",
              "      <td>-0.394280</td>\n",
              "      <td>0.067616</td>\n",
              "      <td>0.067023</td>\n",
              "      <td>0.025665</td>\n",
              "      <td>-0.070733</td>\n",
              "      <td>-0.378812</td>\n",
              "      <td>1.000000</td>\n",
              "      <td>0.288223</td>\n",
              "      <td>-0.257748</td>\n",
              "      <td>0.115739</td>\n",
              "      <td>0.206754</td>\n",
              "      <td>-0.436757</td>\n",
              "    </tr>\n",
              "    <tr>\n",
              "      <th>oldpeak</th>\n",
              "      <td>0.210013</td>\n",
              "      <td>0.096093</td>\n",
              "      <td>-0.149230</td>\n",
              "      <td>0.193216</td>\n",
              "      <td>0.053952</td>\n",
              "      <td>0.005747</td>\n",
              "      <td>-0.058770</td>\n",
              "      <td>-0.344187</td>\n",
              "      <td>0.288223</td>\n",
              "      <td>1.000000</td>\n",
              "      <td>-0.577537</td>\n",
              "      <td>0.222682</td>\n",
              "      <td>0.210244</td>\n",
              "      <td>-0.430696</td>\n",
              "    </tr>\n",
              "    <tr>\n",
              "      <th>slope</th>\n",
              "      <td>-0.168814</td>\n",
              "      <td>-0.030711</td>\n",
              "      <td>0.119717</td>\n",
              "      <td>-0.121475</td>\n",
              "      <td>-0.004038</td>\n",
              "      <td>-0.059894</td>\n",
              "      <td>0.093045</td>\n",
              "      <td>0.386784</td>\n",
              "      <td>-0.257748</td>\n",
              "      <td>-0.577537</td>\n",
              "      <td>1.000000</td>\n",
              "      <td>-0.080155</td>\n",
              "      <td>-0.104764</td>\n",
              "      <td>0.345877</td>\n",
              "    </tr>\n",
              "    <tr>\n",
              "      <th>ca</th>\n",
              "      <td>0.276326</td>\n",
              "      <td>0.118261</td>\n",
              "      <td>-0.181053</td>\n",
              "      <td>0.101389</td>\n",
              "      <td>0.070511</td>\n",
              "      <td>0.137979</td>\n",
              "      <td>-0.072042</td>\n",
              "      <td>-0.213177</td>\n",
              "      <td>0.115739</td>\n",
              "      <td>0.222682</td>\n",
              "      <td>-0.080155</td>\n",
              "      <td>1.000000</td>\n",
              "      <td>0.151832</td>\n",
              "      <td>-0.391724</td>\n",
              "    </tr>\n",
              "    <tr>\n",
              "      <th>thal</th>\n",
              "      <td>0.068001</td>\n",
              "      <td>0.210041</td>\n",
              "      <td>-0.161736</td>\n",
              "      <td>0.062210</td>\n",
              "      <td>0.098803</td>\n",
              "      <td>-0.032019</td>\n",
              "      <td>-0.011981</td>\n",
              "      <td>-0.096439</td>\n",
              "      <td>0.206754</td>\n",
              "      <td>0.210244</td>\n",
              "      <td>-0.104764</td>\n",
              "      <td>0.151832</td>\n",
              "      <td>1.000000</td>\n",
              "      <td>-0.344029</td>\n",
              "    </tr>\n",
              "    <tr>\n",
              "      <th>target</th>\n",
              "      <td>-0.225439</td>\n",
              "      <td>-0.280937</td>\n",
              "      <td>0.433798</td>\n",
              "      <td>-0.144931</td>\n",
              "      <td>-0.085239</td>\n",
              "      <td>-0.028046</td>\n",
              "      <td>0.137230</td>\n",
              "      <td>0.421741</td>\n",
              "      <td>-0.436757</td>\n",
              "      <td>-0.430696</td>\n",
              "      <td>0.345877</td>\n",
              "      <td>-0.391724</td>\n",
              "      <td>-0.344029</td>\n",
              "      <td>1.000000</td>\n",
              "    </tr>\n",
              "  </tbody>\n",
              "</table>\n",
              "</div>"
            ],
            "text/plain": [
              "               age       sex        cp  ...        ca      thal    target\n",
              "age       1.000000 -0.098447 -0.068653  ...  0.276326  0.068001 -0.225439\n",
              "sex      -0.098447  1.000000 -0.049353  ...  0.118261  0.210041 -0.280937\n",
              "cp       -0.068653 -0.049353  1.000000  ... -0.181053 -0.161736  0.433798\n",
              "trestbps  0.279351 -0.056769  0.047608  ...  0.101389  0.062210 -0.144931\n",
              "chol      0.213678 -0.197912 -0.076904  ...  0.070511  0.098803 -0.085239\n",
              "fbs       0.121308  0.045032  0.094444  ...  0.137979 -0.032019 -0.028046\n",
              "restecg  -0.116211 -0.058196  0.044421  ... -0.072042 -0.011981  0.137230\n",
              "thalach  -0.398522 -0.044020  0.295762  ... -0.213177 -0.096439  0.421741\n",
              "exang     0.096801  0.141664 -0.394280  ...  0.115739  0.206754 -0.436757\n",
              "oldpeak   0.210013  0.096093 -0.149230  ...  0.222682  0.210244 -0.430696\n",
              "slope    -0.168814 -0.030711  0.119717  ... -0.080155 -0.104764  0.345877\n",
              "ca        0.276326  0.118261 -0.181053  ...  1.000000  0.151832 -0.391724\n",
              "thal      0.068001  0.210041 -0.161736  ...  0.151832  1.000000 -0.344029\n",
              "target   -0.225439 -0.280937  0.433798  ... -0.391724 -0.344029  1.000000\n",
              "\n",
              "[14 rows x 14 columns]"
            ]
          },
          "metadata": {
            "tags": []
          },
          "execution_count": 22
        }
      ]
    },
    {
      "cell_type": "code",
      "metadata": {
        "colab": {
          "base_uri": "https://localhost:8080/"
        },
        "id": "cwWMt6iQ6D-C",
        "outputId": "dad518b4-4060-4224-b0ea-ee7d1bb031d7"
      },
      "source": [
        "# Lets make the correlation matrix more visual with sns heatmap\n",
        "corr_matrix = df.corr()\n",
        "\n",
        "fig,ax = plt.subplots(figsize=(15,10))\n",
        "ax = sns.heatmap(corr_matrix,\n",
        "                 annot=True,\n",
        "                 linewidths=0.5,\n",
        "                 fmt=\".2f\",\n",
        "                 cmap='YlGnBu');"
      ],
      "execution_count": null,
      "outputs": [
        {
          "output_type": "display_data",
          "data": {
            "image/png": "[encoded data removed]",
            "text/plain": [
              "<Figure size 1080x720 with 2 Axes>"
            ]
          },
          "metadata": {
            "tags": [],
            "needs_background": "light"
          }
        }
      ]
    },
    {
      "cell_type": "markdown",
      "metadata": {
        "id": "9mwXIMZLBJOE"
      },
      "source": [
        "# 5. Modelling"
      ]
    },
    {
      "cell_type": "code",
      "metadata": {
        "id": "u3nfgIh6Brlg"
      },
      "source": [
        "# Split data into X and y\n",
        "X = df.drop(\"target\",axis=1)\n",
        "\n",
        "y = df[\"target\"]"
      ],
      "execution_count": null,
      "outputs": []
    },
    {
      "cell_type": "code",
      "metadata": {
        "id": "cnFsnGM5CyjU"
      },
      "source": [
        "# Import random seed\n",
        "np.random.seed(42)\n",
        "\n",
        "# Split data into train and test sets\n",
        "X_train , X_test, y_train, y_test = train_test_split(X,y,test_size=0.2)"
      ],
      "execution_count": null,
      "outputs": []
    },
    {
      "cell_type": "code",
      "metadata": {
        "colab": {
          "base_uri": "https://localhost:8080/",
          "height": 444
        },
        "id": "g5IuqsqsEHA1",
        "outputId": "6d9452f4-3e32-4b38-d593-d9df33e8b760"
      },
      "source": [
        "X_train"
      ],
      "execution_count": null,
      "outputs": [
        {
          "output_type": "execute_result",
          "data": {
            "text/html": [
              "<div>\n",
              "<style scoped>\n",
              "    .dataframe tbody tr th:only-of-type {\n",
              "        vertical-align: middle;\n",
              "    }\n",
              "\n",
              "    .dataframe tbody tr th {\n",
              "        vertical-align: top;\n",
              "    }\n",
              "\n",
              "    .dataframe thead th {\n",
              "        text-align: right;\n",
              "    }\n",
              "</style>\n",
              "<table border=\"1\" class=\"dataframe\">\n",
              "  <thead>\n",
              "    <tr style=\"text-align: right;\">\n",
              "      <th></th>\n",
              "      <th>age</th>\n",
              "      <th>sex</th>\n",
              "      <th>cp</th>\n",
              "      <th>trestbps</th>\n",
              "      <th>chol</th>\n",
              "      <th>fbs</th>\n",
              "      <th>restecg</th>\n",
              "      <th>thalach</th>\n",
              "      <th>exang</th>\n",
              "      <th>oldpeak</th>\n",
              "      <th>slope</th>\n",
              "      <th>ca</th>\n",
              "      <th>thal</th>\n",
              "    </tr>\n",
              "  </thead>\n",
              "  <tbody>\n",
              "    <tr>\n",
              "      <th>132</th>\n",
              "      <td>42</td>\n",
              "      <td>1</td>\n",
              "      <td>1</td>\n",
              "      <td>120</td>\n",
              "      <td>295</td>\n",
              "      <td>0</td>\n",
              "      <td>1</td>\n",
              "      <td>162</td>\n",
              "      <td>0</td>\n",
              "      <td>0.0</td>\n",
              "      <td>2</td>\n",
              "      <td>0</td>\n",
              "      <td>2</td>\n",
              "    </tr>\n",
              "    <tr>\n",
              "      <th>202</th>\n",
              "      <td>58</td>\n",
              "      <td>1</td>\n",
              "      <td>0</td>\n",
              "      <td>150</td>\n",
              "      <td>270</td>\n",
              "      <td>0</td>\n",
              "      <td>0</td>\n",
              "      <td>111</td>\n",
              "      <td>1</td>\n",
              "      <td>0.8</td>\n",
              "      <td>2</td>\n",
              "      <td>0</td>\n",
              "      <td>3</td>\n",
              "    </tr>\n",
              "    <tr>\n",
              "      <th>196</th>\n",
              "      <td>46</td>\n",
              "      <td>1</td>\n",
              "      <td>2</td>\n",
              "      <td>150</td>\n",
              "      <td>231</td>\n",
              "      <td>0</td>\n",
              "      <td>1</td>\n",
              "      <td>147</td>\n",
              "      <td>0</td>\n",
              "      <td>3.6</td>\n",
              "      <td>1</td>\n",
              "      <td>0</td>\n",
              "      <td>2</td>\n",
              "    </tr>\n",
              "    <tr>\n",
              "      <th>75</th>\n",
              "      <td>55</td>\n",
              "      <td>0</td>\n",
              "      <td>1</td>\n",
              "      <td>135</td>\n",
              "      <td>250</td>\n",
              "      <td>0</td>\n",
              "      <td>0</td>\n",
              "      <td>161</td>\n",
              "      <td>0</td>\n",
              "      <td>1.4</td>\n",
              "      <td>1</td>\n",
              "      <td>0</td>\n",
              "      <td>2</td>\n",
              "    </tr>\n",
              "    <tr>\n",
              "      <th>176</th>\n",
              "      <td>60</td>\n",
              "      <td>1</td>\n",
              "      <td>0</td>\n",
              "      <td>117</td>\n",
              "      <td>230</td>\n",
              "      <td>1</td>\n",
              "      <td>1</td>\n",
              "      <td>160</td>\n",
              "      <td>1</td>\n",
              "      <td>1.4</td>\n",
              "      <td>2</td>\n",
              "      <td>2</td>\n",
              "      <td>3</td>\n",
              "    </tr>\n",
              "    <tr>\n",
              "      <th>...</th>\n",
              "      <td>...</td>\n",
              "      <td>...</td>\n",
              "      <td>...</td>\n",
              "      <td>...</td>\n",
              "      <td>...</td>\n",
              "      <td>...</td>\n",
              "      <td>...</td>\n",
              "      <td>...</td>\n",
              "      <td>...</td>\n",
              "      <td>...</td>\n",
              "      <td>...</td>\n",
              "      <td>...</td>\n",
              "      <td>...</td>\n",
              "    </tr>\n",
              "    <tr>\n",
              "      <th>188</th>\n",
              "      <td>50</td>\n",
              "      <td>1</td>\n",
              "      <td>2</td>\n",
              "      <td>140</td>\n",
              "      <td>233</td>\n",
              "      <td>0</td>\n",
              "      <td>1</td>\n",
              "      <td>163</td>\n",
              "      <td>0</td>\n",
              "      <td>0.6</td>\n",
              "      <td>1</td>\n",
              "      <td>1</td>\n",
              "      <td>3</td>\n",
              "    </tr>\n",
              "    <tr>\n",
              "      <th>71</th>\n",
              "      <td>51</td>\n",
              "      <td>1</td>\n",
              "      <td>2</td>\n",
              "      <td>94</td>\n",
              "      <td>227</td>\n",
              "      <td>0</td>\n",
              "      <td>1</td>\n",
              "      <td>154</td>\n",
              "      <td>1</td>\n",
              "      <td>0.0</td>\n",
              "      <td>2</td>\n",
              "      <td>1</td>\n",
              "      <td>3</td>\n",
              "    </tr>\n",
              "    <tr>\n",
              "      <th>106</th>\n",
              "      <td>69</td>\n",
              "      <td>1</td>\n",
              "      <td>3</td>\n",
              "      <td>160</td>\n",
              "      <td>234</td>\n",
              "      <td>1</td>\n",
              "      <td>0</td>\n",
              "      <td>131</td>\n",
              "      <td>0</td>\n",
              "      <td>0.1</td>\n",
              "      <td>1</td>\n",
              "      <td>1</td>\n",
              "      <td>2</td>\n",
              "    </tr>\n",
              "    <tr>\n",
              "      <th>270</th>\n",
              "      <td>46</td>\n",
              "      <td>1</td>\n",
              "      <td>0</td>\n",
              "      <td>120</td>\n",
              "      <td>249</td>\n",
              "      <td>0</td>\n",
              "      <td>0</td>\n",
              "      <td>144</td>\n",
              "      <td>0</td>\n",
              "      <td>0.8</td>\n",
              "      <td>2</td>\n",
              "      <td>0</td>\n",
              "      <td>3</td>\n",
              "    </tr>\n",
              "    <tr>\n",
              "      <th>102</th>\n",
              "      <td>63</td>\n",
              "      <td>0</td>\n",
              "      <td>1</td>\n",
              "      <td>140</td>\n",
              "      <td>195</td>\n",
              "      <td>0</td>\n",
              "      <td>1</td>\n",
              "      <td>179</td>\n",
              "      <td>0</td>\n",
              "      <td>0.0</td>\n",
              "      <td>2</td>\n",
              "      <td>2</td>\n",
              "      <td>2</td>\n",
              "    </tr>\n",
              "  </tbody>\n",
              "</table>\n",
              "<p>242 rows × 13 columns</p>\n",
              "</div>"
            ],
            "text/plain": [
              "     age  sex  cp  trestbps  chol  ...  exang  oldpeak  slope  ca  thal\n",
              "132   42    1   1       120   295  ...      0      0.0      2   0     2\n",
              "202   58    1   0       150   270  ...      1      0.8      2   0     3\n",
              "196   46    1   2       150   231  ...      0      3.6      1   0     2\n",
              "75    55    0   1       135   250  ...      0      1.4      1   0     2\n",
              "176   60    1   0       117   230  ...      1      1.4      2   2     3\n",
              "..   ...  ...  ..       ...   ...  ...    ...      ...    ...  ..   ...\n",
              "188   50    1   2       140   233  ...      0      0.6      1   1     3\n",
              "71    51    1   2        94   227  ...      1      0.0      2   1     3\n",
              "106   69    1   3       160   234  ...      0      0.1      1   1     2\n",
              "270   46    1   0       120   249  ...      0      0.8      2   0     3\n",
              "102   63    0   1       140   195  ...      0      0.0      2   2     2\n",
              "\n",
              "[242 rows x 13 columns]"
            ]
          },
          "metadata": {
            "tags": []
          },
          "execution_count": 26
        }
      ]
    },
    {
      "cell_type": "code",
      "metadata": {
        "colab": {
          "base_uri": "https://localhost:8080/"
        },
        "id": "7fguxX7NEJSj",
        "outputId": "ef9ed8eb-9164-45db-8454-2c2c1647afd0"
      },
      "source": [
        "y_train"
      ],
      "execution_count": null,
      "outputs": [
        {
          "output_type": "execute_result",
          "data": {
            "text/plain": [
              "132    1\n",
              "202    0\n",
              "196    0\n",
              "75     1\n",
              "176    0\n",
              "      ..\n",
              "188    0\n",
              "71     1\n",
              "106    1\n",
              "270    0\n",
              "102    1\n",
              "Name: target, Length: 242, dtype: int64"
            ]
          },
          "metadata": {
            "tags": []
          },
          "execution_count": 27
        }
      ]
    },
    {
      "cell_type": "markdown",
      "metadata": {
        "id": "3aSzJHYFEVwY"
      },
      "source": [
        "### - **Now we have our data split into train and test sets so its time to build a machine learning model.**\n",
        "### - **We will train it (find patterns) on the training set.**\n",
        "### - **And we will test is (use the patters) on the test set**\n",
        "\n",
        "---\n",
        "\n",
        "### We are goint to try 3 different machine learning models:\n",
        "1. Logistic Regression\n",
        "2. K-Nearest Neighbours Classifier\n",
        "3. Random Forest Classifier"
      ]
    },
    {
      "cell_type": "code",
      "metadata": {
        "id": "AnIe5H5hFrYZ"
      },
      "source": [
        "# Put models in a dictionary\n",
        "models = {\"Logistic Regression\": LogisticRegression(),\n",
        "          \"KNN\": KNeighborsClassifier(),\n",
        "          \"Random Forest\": RandomForestClassifier()}\n",
        "\n",
        "# Create a function to fit and score models\n",
        "def fit_and_score(models, X_train, X_test, y_train, y_test):\n",
        "    \"\"\"\n",
        "    Fits and evaluates given machine learning models.\n",
        "    models : a dict of differetn Scikit-Learn machine learning models\n",
        "    X_train : training data (no labels)\n",
        "    X_test : testing data (no labels)\n",
        "    y_train : training labels\n",
        "    y_test : test labels\n",
        "    \"\"\"\n",
        "    # Set random seed\n",
        "    np.random.seed(42)\n",
        "    # Make a dictionary to keep model scores\n",
        "    model_scores = {}\n",
        "    # Loop through models\n",
        "    for name, model in models.items():\n",
        "        # Fit the model to the data\n",
        "        model.fit(X_train, y_train)\n",
        "        # Evaluate the model and append its score to model_scores\n",
        "        model_scores[name] = model.score(X_test, y_test)\n",
        "    return model_scores"
      ],
      "execution_count": null,
      "outputs": []
    },
    {
      "cell_type": "code",
      "metadata": {
        "colab": {
          "base_uri": "https://localhost:8080/"
        },
        "id": "9CPk0alPH6oJ",
        "outputId": "9bf26483-f1a1-4c13-c42f-b8010a643ab3"
      },
      "source": [
        "model_scores = fit_and_score(models=models,\n",
        "                             X_train=X_train,\n",
        "                             X_test=X_test,\n",
        "                             y_train=y_train,\n",
        "                             y_test=y_test)\n",
        "\n",
        "model_scores"
      ],
      "execution_count": null,
      "outputs": [
        {
          "output_type": "stream",
          "text": [
            "/usr/local/lib/python3.6/dist-packages/sklearn/linear_model/_logistic.py:940: ConvergenceWarning: lbfgs failed to converge (status=1):\n",
            "STOP: TOTAL NO. of ITERATIONS REACHED LIMIT.\n",
            "\n",
            "Increase the number of iterations (max_iter) or scale the data as shown in:\n",
            "    https://scikit-learn.org/stable/modules/preprocessing.html\n",
            "Please also refer to the documentation for alternative solver options:\n",
            "    https://scikit-learn.org/stable/modules/linear_model.html#logistic-regression\n",
            "  extra_warning_msg=_LOGISTIC_SOLVER_CONVERGENCE_MSG)\n"
          ],
          "name": "stderr"
        },
        {
          "output_type": "execute_result",
          "data": {
            "text/plain": [
              "{'KNN': 0.6885245901639344,\n",
              " 'Logistic Regression': 0.8852459016393442,\n",
              " 'Random Forest': 0.8360655737704918}"
            ]
          },
          "metadata": {
            "tags": []
          },
          "execution_count": 29
        }
      ]
    },
    {
      "cell_type": "code",
      "metadata": {
        "colab": {
          "base_uri": "https://localhost:8080/"
        },
        "id": "64RsJaxRIWBl",
        "outputId": "39a30342-4a61-4367-8d18-edd3fe092808"
      },
      "source": [
        "# Model Comparison\n",
        "model_compare = pd.DataFrame(model_scores,index=[\"Accuracy\"])\n",
        "\n",
        "model_compare.T.plot.bar(color=\"salmon\");"
      ],
      "execution_count": null,
      "outputs": [
        {
          "output_type": "display_data",
          "data": {
            "image/png": "[encoded data removed]",
            "text/plain": [
              "<Figure size 720x432 with 1 Axes>"
            ]
          },
          "metadata": {
            "tags": [],
            "needs_background": "light"
          }
        }
      ]
    },
    {
      "cell_type": "markdown",
      "metadata": {
        "id": "f6tOZZSyRCHy"
      },
      "source": [
        "Now we have a baseline model\n",
        "- What should we do next?\n",
        "\n",
        "\n",
        "---\n",
        "\n",
        "\n",
        " Lets look at the following:\n",
        " * Hyperparameter tuning\n",
        " * Feature importance\n",
        " * Confusion Matrix\n",
        " * Cross-validation\n",
        " * Precision\n",
        " * Recall\n",
        " * f1 score\n",
        " * Classification report\n",
        " * ROC curve\n",
        " * Area under the curve (AUC)"
      ]
    },
    {
      "cell_type": "markdown",
      "metadata": {
        "id": "L-nOGntiSSUw"
      },
      "source": [
        "# Hyperparameter tuning\n"
      ]
    },
    {
      "cell_type": "code",
      "metadata": {
        "id": "TQkhVtFtRGMO"
      },
      "source": [
        "# Lets tune KNN\n",
        "\n",
        "train_scores = []\n",
        "test_scores = []\n",
        "\n",
        "# Create a list of different values for n_neighbours\n",
        "neighbours = range(1,21)\n",
        "\n",
        "# Set up KNN instance\n",
        "knn = KNeighborsClassifier()\n",
        "\n",
        "# Loop throudh different n_neighbours\n",
        "for i in neighbours:\n",
        "  knn.set_params(n_neighbors=i)\n",
        "\n",
        "  # Fit the algorithm\n",
        "  knn.fit(X_train,y_train)\n",
        "  # Update the training scores list\n",
        "  train_scores.append(knn.score(X_train,y_train))\n",
        "  # Update the test scoes list\n",
        "  test_scores.append(knn.score(X_test,y_test))\n",
        "\n"
      ],
      "execution_count": null,
      "outputs": []
    },
    {
      "cell_type": "code",
      "metadata": {
        "colab": {
          "base_uri": "https://localhost:8080/"
        },
        "id": "4fgsMFexTcwU",
        "outputId": "c1ab87a7-db54-4ce8-ce98-69606e9085f6"
      },
      "source": [
        "train_scores"
      ],
      "execution_count": null,
      "outputs": [
        {
          "output_type": "execute_result",
          "data": {
            "text/plain": [
              "[1.0,\n",
              " 0.8099173553719008,\n",
              " 0.7727272727272727,\n",
              " 0.743801652892562,\n",
              " 0.7603305785123967,\n",
              " 0.7520661157024794,\n",
              " 0.743801652892562,\n",
              " 0.7231404958677686,\n",
              " 0.71900826446281,\n",
              " 0.6942148760330579,\n",
              " 0.7272727272727273,\n",
              " 0.6983471074380165,\n",
              " 0.6900826446280992,\n",
              " 0.6942148760330579,\n",
              " 0.6859504132231405,\n",
              " 0.6735537190082644,\n",
              " 0.6859504132231405,\n",
              " 0.6652892561983471,\n",
              " 0.6818181818181818,\n",
              " 0.6694214876033058]"
            ]
          },
          "metadata": {
            "tags": []
          },
          "execution_count": 32
        }
      ]
    },
    {
      "cell_type": "code",
      "metadata": {
        "colab": {
          "base_uri": "https://localhost:8080/"
        },
        "id": "UR-AcQ4RT4Zp",
        "outputId": "5c7f1d54-6cfb-44be-b5f5-23b3f6f7c989"
      },
      "source": [
        "test_scores"
      ],
      "execution_count": null,
      "outputs": [
        {
          "output_type": "execute_result",
          "data": {
            "text/plain": [
              "[0.6229508196721312,\n",
              " 0.639344262295082,\n",
              " 0.6557377049180327,\n",
              " 0.6721311475409836,\n",
              " 0.6885245901639344,\n",
              " 0.7213114754098361,\n",
              " 0.7049180327868853,\n",
              " 0.6885245901639344,\n",
              " 0.6885245901639344,\n",
              " 0.7049180327868853,\n",
              " 0.7540983606557377,\n",
              " 0.7377049180327869,\n",
              " 0.7377049180327869,\n",
              " 0.7377049180327869,\n",
              " 0.6885245901639344,\n",
              " 0.7213114754098361,\n",
              " 0.6885245901639344,\n",
              " 0.6885245901639344,\n",
              " 0.7049180327868853,\n",
              " 0.6557377049180327]"
            ]
          },
          "metadata": {
            "tags": []
          },
          "execution_count": 33
        }
      ]
    },
    {
      "cell_type": "code",
      "metadata": {
        "colab": {
          "base_uri": "https://localhost:8080/",
          "height": 405
        },
        "id": "_LAWctumT5qa",
        "outputId": "d194234c-0d4d-40e8-8adf-d21ee4d340b9"
      },
      "source": [
        "plt.plot(neighbours,train_scores,label=\"Train score\")\n",
        "plt.plot(neighbours,test_scores,label=\"Test score\")\n",
        "\n",
        "plt.xticks(np.arange(1,21,1))\n",
        "\n",
        "plt.xlabel(\"Number of neighbors\")\n",
        "plt.ylabel(\"Model score\")\n",
        "plt.legend()\n",
        "\n",
        "print(f'Maximum KNN score on the test data: {max(test_scores) *100:.2f}%')"
      ],
      "execution_count": null,
      "outputs": [
        {
          "output_type": "stream",
          "text": [
            "Maximum KNN score on the test data: 75.41%\n"
          ],
          "name": "stdout"
        },
        {
          "output_type": "display_data",
          "data": {
            "image/png": "[encoded data removed]",
            "text/plain": [
              "<Figure size 720x432 with 1 Axes>"
            ]
          },
          "metadata": {
            "tags": [],
            "needs_background": "light"
          }
        }
      ]
    },
    {
      "cell_type": "markdown",
      "metadata": {
        "id": "Sr6kAjIYWCWH"
      },
      "source": [
        "# Hyper parameter tuning with RandomizedSearchCV\n",
        "\n",
        "---\n",
        "We are going to tune:\n",
        "* Logistic Regression\n",
        "* RandomForestClassifier\n",
        "\n",
        "Using RandomizedSearchCV\n"
      ]
    },
    {
      "cell_type": "code",
      "metadata": {
        "id": "A_VGNVFMWMc4"
      },
      "source": [
        "# Create a hyperparameter grid for LogisticRegression\n",
        "log_reg_grid = {\"C\":np.logspace(-4,4,20),\n",
        "                \"solver\":[\"liblinear\"]}\n",
        "\n",
        "# Create a hyperparameter grid for RandomForestClassifier\n",
        "rf_grid = {\"n_estimators\": np.arange(10,1000,50),\n",
        "           \"max_depth\":[None,3,5,10],\n",
        "           \"min_samples_split\":np.arange(2,20,2),\n",
        "           \"min_samples_leaf\":np.arange(1,20,2)}\n"
      ],
      "execution_count": null,
      "outputs": []
    },
    {
      "cell_type": "markdown",
      "metadata": {
        "id": "PJFH4g2sitMM"
      },
      "source": [
        "**Now we have hyperparameter gris setup for each of our models,lets tune them with RandomizedSearchCV**"
      ]
    },
    {
      "cell_type": "code",
      "metadata": {
        "colab": {
          "base_uri": "https://localhost:8080/"
        },
        "id": "3Xr3H8bsZcal",
        "outputId": "22f41d97-3638-4b73-cfe8-769cf4544daf"
      },
      "source": [
        "# Tune LogisticRegression\n",
        "\n",
        "np.random.seed(42)\n",
        "\n",
        "# Setup random hyperparameter search for LogisticRegression\n",
        "rs_log_reg = RandomizedSearchCV(LogisticRegression(),\n",
        "                                param_distributions=log_reg_grid,\n",
        "                                cv=5,\n",
        "                                n_iter=20,\n",
        "                                verbose=True)\n",
        "\n",
        "# Fit random Hyperparameter search model for LogisticRegression\n",
        "rs_log_reg.fit(X_train,y_train)"
      ],
      "execution_count": null,
      "outputs": [
        {
          "output_type": "stream",
          "text": [
            "Fitting 5 folds for each of 20 candidates, totalling 100 fits\n"
          ],
          "name": "stdout"
        },
        {
          "output_type": "stream",
          "text": [
            "[Parallel(n_jobs=1)]: Using backend SequentialBackend with 1 concurrent workers.\n",
            "[Parallel(n_jobs=1)]: Done 100 out of 100 | elapsed:    0.3s finished\n"
          ],
          "name": "stderr"
        },
        {
          "output_type": "execute_result",
          "data": {
            "text/plain": [
              "RandomizedSearchCV(cv=5, error_score=nan,\n",
              "                   estimator=LogisticRegression(C=1.0, class_weight=None,\n",
              "                                                dual=False, fit_intercept=True,\n",
              "                                                intercept_scaling=1,\n",
              "                                                l1_ratio=None, max_iter=100,\n",
              "                                                multi_class='auto', n_jobs=None,\n",
              "                                                penalty='l2', random_state=None,\n",
              "                                                solver='lbfgs', tol=0.0001,\n",
              "                                                verbose=0, warm_start=False),\n",
              "                   iid='deprecated', n_iter=20, n_jobs=None,\n",
              "                   param_distributions={'C':...\n",
              "       4.83293024e-03, 1.27427499e-02, 3.35981829e-02, 8.85866790e-02,\n",
              "       2.33572147e-01, 6.15848211e-01, 1.62377674e+00, 4.28133240e+00,\n",
              "       1.12883789e+01, 2.97635144e+01, 7.84759970e+01, 2.06913808e+02,\n",
              "       5.45559478e+02, 1.43844989e+03, 3.79269019e+03, 1.00000000e+04]),\n",
              "                                        'solver': ['liblinear']},\n",
              "                   pre_dispatch='2*n_jobs', random_state=None, refit=True,\n",
              "                   return_train_score=False, scoring=None, verbose=True)"
            ]
          },
          "metadata": {
            "tags": []
          },
          "execution_count": 36
        }
      ]
    },
    {
      "cell_type": "code",
      "metadata": {
        "colab": {
          "base_uri": "https://localhost:8080/"
        },
        "id": "1Ucpv6pajg3D",
        "outputId": "3f8c436b-20ba-4f75-f147-d4860a8bbd4e"
      },
      "source": [
        "rs_log_reg.best_params_"
      ],
      "execution_count": null,
      "outputs": [
        {
          "output_type": "execute_result",
          "data": {
            "text/plain": [
              "{'C': 0.23357214690901212, 'solver': 'liblinear'}"
            ]
          },
          "metadata": {
            "tags": []
          },
          "execution_count": 37
        }
      ]
    },
    {
      "cell_type": "code",
      "metadata": {
        "colab": {
          "base_uri": "https://localhost:8080/"
        },
        "id": "5-2G8F7Jjr4r",
        "outputId": "c6f0da7c-6afc-4481-e4ab-35760eee91d8"
      },
      "source": [
        "rs_log_reg.score(X_test,y_test)"
      ],
      "execution_count": null,
      "outputs": [
        {
          "output_type": "execute_result",
          "data": {
            "text/plain": [
              "0.8852459016393442"
            ]
          },
          "metadata": {
            "tags": []
          },
          "execution_count": 38
        }
      ]
    },
    {
      "cell_type": "markdown",
      "metadata": {
        "id": "j4vjudP-j2Pu"
      },
      "source": [
        "**Now we have tuned Logistic Regression() lets do the same for RandomForestClassifier()**"
      ]
    },
    {
      "cell_type": "code",
      "metadata": {
        "colab": {
          "base_uri": "https://localhost:8080/"
        },
        "id": "q92chdZBjwxC",
        "outputId": "4880cb76-d4d1-4f27-c965-21a196e2c013"
      },
      "source": [
        "# Set up random seed\n",
        "np.random.seed(42)\n",
        "\n",
        "# Set up random hyperparameter search for RandomForestClassifier\n",
        "rs_rf = RandomizedSearchCV(RandomForestClassifier(),\n",
        "                           param_distributions=rf_grid,\n",
        "                           cv=5,\n",
        "                           n_iter=20,\n",
        "                           verbose=True)\n",
        "\n",
        "# Fit random hyperparameter search model for RandomForestClassifier\n",
        "rs_rf.fit(X_train,y_train)"
      ],
      "execution_count": null,
      "outputs": [
        {
          "output_type": "stream",
          "text": [
            "[Parallel(n_jobs=1)]: Using backend SequentialBackend with 1 concurrent workers.\n"
          ],
          "name": "stderr"
        },
        {
          "output_type": "stream",
          "text": [
            "Fitting 5 folds for each of 20 candidates, totalling 100 fits\n"
          ],
          "name": "stdout"
        },
        {
          "output_type": "stream",
          "text": [
            "[Parallel(n_jobs=1)]: Done 100 out of 100 | elapsed:   55.5s finished\n"
          ],
          "name": "stderr"
        },
        {
          "output_type": "execute_result",
          "data": {
            "text/plain": [
              "RandomizedSearchCV(cv=5, error_score=nan,\n",
              "                   estimator=RandomForestClassifier(bootstrap=True,\n",
              "                                                    ccp_alpha=0.0,\n",
              "                                                    class_weight=None,\n",
              "                                                    criterion='gini',\n",
              "                                                    max_depth=None,\n",
              "                                                    max_features='auto',\n",
              "                                                    max_leaf_nodes=None,\n",
              "                                                    max_samples=None,\n",
              "                                                    min_impurity_decrease=0.0,\n",
              "                                                    min_impurity_split=None,\n",
              "                                                    min_samples_leaf=1,\n",
              "                                                    min_samples_split=2,\n",
              "                                                    min_weight_fraction_leaf=0.0,\n",
              "                                                    n_estimators=100,\n",
              "                                                    n_jobs...\n",
              "                   param_distributions={'max_depth': [None, 3, 5, 10],\n",
              "                                        'min_samples_leaf': array([ 1,  3,  5,  7,  9, 11, 13, 15, 17, 19]),\n",
              "                                        'min_samples_split': array([ 2,  4,  6,  8, 10, 12, 14, 16, 18]),\n",
              "                                        'n_estimators': array([ 10,  60, 110, 160, 210, 260, 310, 360, 410, 460, 510, 560, 610,\n",
              "       660, 710, 760, 810, 860, 910, 960])},\n",
              "                   pre_dispatch='2*n_jobs', random_state=None, refit=True,\n",
              "                   return_train_score=False, scoring=None, verbose=True)"
            ]
          },
          "metadata": {
            "tags": []
          },
          "execution_count": 39
        }
      ]
    },
    {
      "cell_type": "code",
      "metadata": {
        "colab": {
          "base_uri": "https://localhost:8080/"
        },
        "id": "J9s66wTRkTY-",
        "outputId": "d2078832-7724-4dce-b31b-dc8b7615ca13"
      },
      "source": [
        "rs_rf.best_params_"
      ],
      "execution_count": null,
      "outputs": [
        {
          "output_type": "execute_result",
          "data": {
            "text/plain": [
              "{'max_depth': 3,\n",
              " 'min_samples_leaf': 19,\n",
              " 'min_samples_split': 4,\n",
              " 'n_estimators': 210}"
            ]
          },
          "metadata": {
            "tags": []
          },
          "execution_count": 40
        }
      ]
    },
    {
      "cell_type": "code",
      "metadata": {
        "colab": {
          "base_uri": "https://localhost:8080/"
        },
        "id": "WMgcDT08kxvh",
        "outputId": "405ff621-ec3c-485c-989e-5b0ad653e57c"
      },
      "source": [
        "# Evaluate the randomized search RandomForestClassifier model\n",
        "rs_rf.score(X_test,y_test)"
      ],
      "execution_count": null,
      "outputs": [
        {
          "output_type": "execute_result",
          "data": {
            "text/plain": [
              "0.8688524590163934"
            ]
          },
          "metadata": {
            "tags": []
          },
          "execution_count": 41
        }
      ]
    },
    {
      "cell_type": "code",
      "metadata": {
        "colab": {
          "base_uri": "https://localhost:8080/"
        },
        "id": "Mb30tmjTk3h-",
        "outputId": "99ab29f8-da39-4a7d-8d34-192344b669d5"
      },
      "source": [
        "model_scores"
      ],
      "execution_count": null,
      "outputs": [
        {
          "output_type": "execute_result",
          "data": {
            "text/plain": [
              "{'KNN': 0.6885245901639344,\n",
              " 'Logistic Regression': 0.8852459016393442,\n",
              " 'Random Forest': 0.8360655737704918}"
            ]
          },
          "metadata": {
            "tags": []
          },
          "execution_count": 42
        }
      ]
    },
    {
      "cell_type": "markdown",
      "metadata": {
        "id": "WeY9mTbblvg6"
      },
      "source": [
        "3 ways to tune hyperparametes\n",
        "\n",
        "1. By hand\n",
        "2. RandomizedSearchCV\n",
        "3. GridSearchCV"
      ]
    },
    {
      "cell_type": "markdown",
      "metadata": {
        "id": "kjdSsudZmEJ_"
      },
      "source": [
        "# **Hyperparameter Tuning with GridSearchCV**\n",
        "\n",
        "\n",
        "---\n",
        "\n",
        "*since our LogisticRegression model provides the best model so far we will try and improve again using GridSearchCV*"
      ]
    },
    {
      "cell_type": "code",
      "metadata": {
        "id": "HSLvWAyJo5Gs"
      },
      "source": [
        "# Simple Hyperparameter for LogisticRegression\n",
        "log_reg_grid = {\"C\":np.logspace(-4,4,20),\n",
        "                \"solver\":[\"liblinear\"]}"
      ],
      "execution_count": null,
      "outputs": []
    },
    {
      "cell_type": "code",
      "metadata": {
        "colab": {
          "base_uri": "https://localhost:8080/"
        },
        "id": "k68ZvW7Kmal-",
        "outputId": "118f6c96-7b9e-4277-9d17-943a2cd9de4a"
      },
      "source": [
        "# # Different Hyperparameters for our LogisticRegression model\n",
        "# log_reg_grid = {\"C\":np.logspace(-4,4,30),\n",
        "#                 \"solver\":[\"liblinear\",\"sag\",\"saga\",\"newton-cg\",\"lbfgs\"],\n",
        "#                 \"max_iter\":[100,1000,2500,5000],\n",
        "#                 \"penalty\":[\"l1\",\"l2\",\"none\",\"elasticnet\"]}\n",
        "\n",
        "# Set up grid Hyperparameter search for LogisticRegression\n",
        "gs_log_reg = GridSearchCV(LogisticRegression(),\n",
        "                          param_grid=log_reg_grid,\n",
        "                          cv=5,\n",
        "                          verbose=True)\n",
        "\n",
        "# Fit grid hyperparameter search model\n",
        "gs_log_reg.fit(X_train,y_train)"
      ],
      "execution_count": null,
      "outputs": [
        {
          "output_type": "stream",
          "text": [
            "Fitting 5 folds for each of 20 candidates, totalling 100 fits\n"
          ],
          "name": "stdout"
        },
        {
          "output_type": "stream",
          "text": [
            "[Parallel(n_jobs=1)]: Using backend SequentialBackend with 1 concurrent workers.\n",
            "[Parallel(n_jobs=1)]: Done 100 out of 100 | elapsed:    0.3s finished\n"
          ],
          "name": "stderr"
        },
        {
          "output_type": "execute_result",
          "data": {
            "text/plain": [
              "GridSearchCV(cv=5, error_score=nan,\n",
              "             estimator=LogisticRegression(C=1.0, class_weight=None, dual=False,\n",
              "                                          fit_intercept=True,\n",
              "                                          intercept_scaling=1, l1_ratio=None,\n",
              "                                          max_iter=100, multi_class='auto',\n",
              "                                          n_jobs=None, penalty='l2',\n",
              "                                          random_state=None, solver='lbfgs',\n",
              "                                          tol=0.0001, verbose=0,\n",
              "                                          warm_start=False),\n",
              "             iid='deprecated', n_jobs=None,\n",
              "             param_grid={'C': array([1.00000000e-04, 2.6...\n",
              "       4.83293024e-03, 1.27427499e-02, 3.35981829e-02, 8.85866790e-02,\n",
              "       2.33572147e-01, 6.15848211e-01, 1.62377674e+00, 4.28133240e+00,\n",
              "       1.12883789e+01, 2.97635144e+01, 7.84759970e+01, 2.06913808e+02,\n",
              "       5.45559478e+02, 1.43844989e+03, 3.79269019e+03, 1.00000000e+04]),\n",
              "                         'solver': ['liblinear']},\n",
              "             pre_dispatch='2*n_jobs', refit=True, return_train_score=False,\n",
              "             scoring=None, verbose=True)"
            ]
          },
          "metadata": {
            "tags": []
          },
          "execution_count": 44
        }
      ]
    },
    {
      "cell_type": "code",
      "metadata": {
        "colab": {
          "base_uri": "https://localhost:8080/"
        },
        "id": "X3ERTyWDnKv2",
        "outputId": "53fc82d4-65ef-42cf-ae8b-f3f5f60f48b3"
      },
      "source": [
        "gs_log_reg.best_params_"
      ],
      "execution_count": null,
      "outputs": [
        {
          "output_type": "execute_result",
          "data": {
            "text/plain": [
              "{'C': 0.23357214690901212, 'solver': 'liblinear'}"
            ]
          },
          "metadata": {
            "tags": []
          },
          "execution_count": 45
        }
      ]
    },
    {
      "cell_type": "code",
      "metadata": {
        "colab": {
          "base_uri": "https://localhost:8080/"
        },
        "id": "1o-mmOlanOG1",
        "outputId": "84650f92-29f3-44d6-a812-db2b785eeb8b"
      },
      "source": [
        "gs_log_reg.score(X_train,y_train)"
      ],
      "execution_count": null,
      "outputs": [
        {
          "output_type": "execute_result",
          "data": {
            "text/plain": [
              "0.859504132231405"
            ]
          },
          "metadata": {
            "tags": []
          },
          "execution_count": 46
        }
      ]
    },
    {
      "cell_type": "markdown",
      "metadata": {
        "id": "d2CnWApWEF2P"
      },
      "source": [
        "# Evaluating our tuned machine learning classifier,beyond accuracy\n",
        "\n",
        "* **ROC curve and AUC score**\n",
        "* **confusion matrix**\n",
        "* **Classification report**\n",
        "* **Precision**\n",
        "* **Recall**\n",
        "* **f1 score**\n",
        "\n",
        "and it would be great if cross-validatiopn was used where possible\n",
        "\n",
        "\n",
        "---\n",
        "To make comparisons and evaluate our trained model first we need to make predictions.\n"
      ]
    },
    {
      "cell_type": "code",
      "metadata": {
        "colab": {
          "base_uri": "https://localhost:8080/"
        },
        "id": "GezFyMGwEVbO",
        "outputId": "8544a8e8-79d0-4a55-eb4b-87597a302a82"
      },
      "source": [
        "# Make predictions with tuned model\n",
        "y_preds = gs_log_reg.predict(X_test)\n",
        "y_preds"
      ],
      "execution_count": null,
      "outputs": [
        {
          "output_type": "execute_result",
          "data": {
            "text/plain": [
              "array([0, 1, 1, 0, 1, 1, 1, 0, 0, 1, 1, 0, 1, 0, 1, 1, 1, 0, 0, 0, 1, 0,\n",
              "       0, 1, 1, 1, 1, 1, 0, 1, 0, 0, 0, 0, 1, 0, 1, 1, 1, 1, 1, 1, 1, 1,\n",
              "       1, 0, 1, 1, 0, 0, 0, 0, 1, 1, 0, 0, 0, 1, 0, 0, 0])"
            ]
          },
          "metadata": {
            "tags": []
          },
          "execution_count": 47
        }
      ]
    },
    {
      "cell_type": "code",
      "metadata": {
        "colab": {
          "base_uri": "https://localhost:8080/",
          "height": 388
        },
        "id": "N9r8r-UxEvTX",
        "outputId": "ebbcb616-1b9d-4d2e-e9f3-118da9450f54"
      },
      "source": [
        "# We have already imported the roc curve from sklearn.metrics module\n",
        "\n",
        "# Plot the ROC curve and calculate AUC metric\n",
        "plot_roc_curve(gs_log_reg,X_test,y_test);"
      ],
      "execution_count": null,
      "outputs": [
        {
          "output_type": "display_data",
          "data": {
            "image/png": "[encoded data removed]",
            "text/plain": [
              "<Figure size 720x432 with 1 Axes>"
            ]
          },
          "metadata": {
            "tags": [],
            "needs_background": "light"
          }
        }
      ]
    },
    {
      "cell_type": "code",
      "metadata": {
        "id": "ZtbRv1rWFY_9"
      },
      "source": [
        "import seaborn as sns\n",
        "\n",
        "sns.set(font_scale=1.5)# Increases font size\n",
        "\n",
        "def plot_conf(y_test,y_preds):\n",
        "  \"\"\"\n",
        "  Plots a confusion matrix using Seaborn's Heatmap().\n",
        "  \"\"\"\n",
        "  fig,ax = plt.subplots(figsize=(5,5))\n",
        "  ax = sns.heatmap(confusion_matrix(y_test,y_preds),\n",
        "                   annot=True,\n",
        "                   cbar=False)\n",
        "  plt.xlabel(\"Predicted label\")\n",
        "  plt.ylabel(\"True label\")"
      ],
      "execution_count": null,
      "outputs": []
    },
    {
      "cell_type": "code",
      "metadata": {
        "colab": {
          "base_uri": "https://localhost:8080/",
          "height": 352
        },
        "id": "gsO0GxFaFmmU",
        "outputId": "956ed22d-a1b4-428f-874b-be79e76b80d8"
      },
      "source": [
        "plot_conf(y_test,y_preds)"
      ],
      "execution_count": null,
      "outputs": [
        {
          "output_type": "display_data",
          "data": {
            "image/png": "[encoded data removed]",
            "text/plain": [
              "<Figure size 360x360 with 1 Axes>"
            ]
          },
          "metadata": {
            "tags": []
          }
        }
      ]
    },
    {
      "cell_type": "markdown",
      "metadata": {
        "id": "k6UhJp5QHXdq"
      },
      "source": [
        "**Now we have a ROC curve an AUC metric and a confusion matrix lets get a classification report as well as cross-validated precision recall and f1 score**"
      ]
    },
    {
      "cell_type": "code",
      "metadata": {
        "colab": {
          "base_uri": "https://localhost:8080/"
        },
        "id": "njAbNGpjFqho",
        "outputId": "ec23fb37-bf76-4909-c662-229529406d0a"
      },
      "source": [
        "print(classification_report(y_test,y_preds))"
      ],
      "execution_count": null,
      "outputs": [
        {
          "output_type": "stream",
          "text": [
            "              precision    recall  f1-score   support\n",
            "\n",
            "           0       0.89      0.86      0.88        29\n",
            "           1       0.88      0.91      0.89        32\n",
            "\n",
            "    accuracy                           0.89        61\n",
            "   macro avg       0.89      0.88      0.88        61\n",
            "weighted avg       0.89      0.89      0.89        61\n",
            "\n"
          ],
          "name": "stdout"
        }
      ]
    },
    {
      "cell_type": "markdown",
      "metadata": {
        "id": "Wax9YKKoI-WN"
      },
      "source": [
        "# Calculate evaluation metrics using cross-validation\n",
        "\n",
        "We are going to calculate accuracy,precision,recall and f1 score on our model using cross-validation and to do so we will be using cross_val_score"
      ]
    },
    {
      "cell_type": "code",
      "metadata": {
        "colab": {
          "base_uri": "https://localhost:8080/"
        },
        "id": "ccErxbLeHoF6",
        "outputId": "925f7613-7c88-4b30-cc8e-466506a245d9"
      },
      "source": [
        "# Check best hyperparameters\n",
        "gs_log_reg.best_params_"
      ],
      "execution_count": null,
      "outputs": [
        {
          "output_type": "execute_result",
          "data": {
            "text/plain": [
              "{'C': 0.23357214690901212, 'solver': 'liblinear'}"
            ]
          },
          "metadata": {
            "tags": []
          },
          "execution_count": 52
        }
      ]
    },
    {
      "cell_type": "code",
      "metadata": {
        "id": "TnfF6RY6JbPU"
      },
      "source": [
        "# Create a new classifier with best parameters\n",
        "\n",
        "clf = LogisticRegression(C=0.23357214690901212,\n",
        "                         solver=\"liblinear\")"
      ],
      "execution_count": null,
      "outputs": []
    },
    {
      "cell_type": "code",
      "metadata": {
        "colab": {
          "base_uri": "https://localhost:8080/"
        },
        "id": "FRA7ABT6Jfmc",
        "outputId": "90a337fe-6c57-49d2-b9d7-311e01c0c6e1"
      },
      "source": [
        "# Cross validated Accuracy\n",
        "\n",
        "cv_acc = cross_val_score(clf,\n",
        "                         X,\n",
        "                         y,\n",
        "                         cv=5,\n",
        "                         scoring=\"accuracy\")\n",
        "cv_acc"
      ],
      "execution_count": null,
      "outputs": [
        {
          "output_type": "execute_result",
          "data": {
            "text/plain": [
              "array([0.81967213, 0.90163934, 0.8852459 , 0.88333333, 0.75      ])"
            ]
          },
          "metadata": {
            "tags": []
          },
          "execution_count": 54
        }
      ]
    },
    {
      "cell_type": "code",
      "metadata": {
        "colab": {
          "base_uri": "https://localhost:8080/"
        },
        "id": "OVKPZInaKA7A",
        "outputId": "2134c670-7ee2-462d-f1f4-8750c06e36f7"
      },
      "source": [
        "cv_acc = round(np.mean(cv_acc),2)\n",
        "cv_acc"
      ],
      "execution_count": null,
      "outputs": [
        {
          "output_type": "execute_result",
          "data": {
            "text/plain": [
              "0.85"
            ]
          },
          "metadata": {
            "tags": []
          },
          "execution_count": 55
        }
      ]
    },
    {
      "cell_type": "code",
      "metadata": {
        "colab": {
          "base_uri": "https://localhost:8080/"
        },
        "id": "ziq1Cr_9KFXz",
        "outputId": "cd9ffacd-6138-41b7-d86b-937b0f64fd2a"
      },
      "source": [
        "# Cross validated precision\n",
        "cv_precision = cross_val_score(clf,\n",
        "                               X,\n",
        "                               y,\n",
        "                               cv=5,\n",
        "                               scoring=\"precision\")\n",
        "cv_precision"
      ],
      "execution_count": null,
      "outputs": [
        {
          "output_type": "execute_result",
          "data": {
            "text/plain": [
              "array([0.775     , 0.88571429, 0.86111111, 0.86111111, 0.725     ])"
            ]
          },
          "metadata": {
            "tags": []
          },
          "execution_count": 56
        }
      ]
    },
    {
      "cell_type": "code",
      "metadata": {
        "colab": {
          "base_uri": "https://localhost:8080/"
        },
        "id": "PFEBY2gmKSDv",
        "outputId": "2f7dfea1-3197-4eab-ca40-7accdfafd1f4"
      },
      "source": [
        "cv_precision = round(np.mean(cv_precision),2)\n",
        "cv_precision"
      ],
      "execution_count": null,
      "outputs": [
        {
          "output_type": "execute_result",
          "data": {
            "text/plain": [
              "0.82"
            ]
          },
          "metadata": {
            "tags": []
          },
          "execution_count": 57
        }
      ]
    },
    {
      "cell_type": "code",
      "metadata": {
        "colab": {
          "base_uri": "https://localhost:8080/"
        },
        "id": "V7M5xBHwKViZ",
        "outputId": "918234c1-0da1-4e30-86fb-9de28634ece0"
      },
      "source": [
        "# Cross validated recall\n",
        "cv_recall = cross_val_score(clf,\n",
        "                            X,\n",
        "                            y,\n",
        "                            cv=5,\n",
        "                            scoring=\"recall\")\n",
        "cv_recall"
      ],
      "execution_count": null,
      "outputs": [
        {
          "output_type": "execute_result",
          "data": {
            "text/plain": [
              "array([0.93939394, 0.93939394, 0.93939394, 0.93939394, 0.87878788])"
            ]
          },
          "metadata": {
            "tags": []
          },
          "execution_count": 58
        }
      ]
    },
    {
      "cell_type": "code",
      "metadata": {
        "colab": {
          "base_uri": "https://localhost:8080/"
        },
        "id": "nZuZaVTGK47r",
        "outputId": "b1aef998-77db-4f03-ee8f-7071273750bc"
      },
      "source": [
        "cv_recall = round(np.mean(cv_recall),2)\n",
        "cv_recall"
      ],
      "execution_count": null,
      "outputs": [
        {
          "output_type": "execute_result",
          "data": {
            "text/plain": [
              "0.93"
            ]
          },
          "metadata": {
            "tags": []
          },
          "execution_count": 59
        }
      ]
    },
    {
      "cell_type": "code",
      "metadata": {
        "colab": {
          "base_uri": "https://localhost:8080/"
        },
        "id": "U6ULEkmfK8GD",
        "outputId": "cc1d4dc2-e04b-4477-cdae-d5962760bfaf"
      },
      "source": [
        "# F1 score\n",
        "cv_f1 = cross_val_score(clf,\n",
        "                        X,\n",
        "                        y,\n",
        "                        cv=5,\n",
        "                        scoring=\"f1\")\n",
        "cv_f1"
      ],
      "execution_count": null,
      "outputs": [
        {
          "output_type": "execute_result",
          "data": {
            "text/plain": [
              "array([0.84931507, 0.91176471, 0.89855072, 0.89855072, 0.79452055])"
            ]
          },
          "metadata": {
            "tags": []
          },
          "execution_count": 60
        }
      ]
    },
    {
      "cell_type": "code",
      "metadata": {
        "colab": {
          "base_uri": "https://localhost:8080/"
        },
        "id": "RB0FJhpOLEz-",
        "outputId": "2e20edf6-4b3d-44eb-e03b-4a7c3dde2d4b"
      },
      "source": [
        "cv_f1 = round(np.mean(cv_f1),2)\n",
        "cv_f1"
      ],
      "execution_count": null,
      "outputs": [
        {
          "output_type": "execute_result",
          "data": {
            "text/plain": [
              "0.87"
            ]
          },
          "metadata": {
            "tags": []
          },
          "execution_count": 61
        }
      ]
    },
    {
      "cell_type": "code",
      "metadata": {
        "colab": {
          "base_uri": "https://localhost:8080/",
          "height": 81
        },
        "id": "Vn8caiROLKPG",
        "outputId": "2016cbec-d72b-4a71-da16-21a6ac32b109"
      },
      "source": [
        "cross_validated_scores = pd.DataFrame({\"Precision\":cv_precision,\n",
        "                         \"Accuracy\":cv_acc,\n",
        "                         \"Recall\":cv_recall,\n",
        "                         \"F1\":cv_f1},index=[0])\n",
        "\n",
        "cross_validated_scores"
      ],
      "execution_count": null,
      "outputs": [
        {
          "output_type": "execute_result",
          "data": {
            "text/html": [
              "<div>\n",
              "<style scoped>\n",
              "    .dataframe tbody tr th:only-of-type {\n",
              "        vertical-align: middle;\n",
              "    }\n",
              "\n",
              "    .dataframe tbody tr th {\n",
              "        vertical-align: top;\n",
              "    }\n",
              "\n",
              "    .dataframe thead th {\n",
              "        text-align: right;\n",
              "    }\n",
              "</style>\n",
              "<table border=\"1\" class=\"dataframe\">\n",
              "  <thead>\n",
              "    <tr style=\"text-align: right;\">\n",
              "      <th></th>\n",
              "      <th>Precision</th>\n",
              "      <th>Accuracy</th>\n",
              "      <th>Recall</th>\n",
              "      <th>F1</th>\n",
              "    </tr>\n",
              "  </thead>\n",
              "  <tbody>\n",
              "    <tr>\n",
              "      <th>0</th>\n",
              "      <td>0.82</td>\n",
              "      <td>0.85</td>\n",
              "      <td>0.93</td>\n",
              "      <td>0.87</td>\n",
              "    </tr>\n",
              "  </tbody>\n",
              "</table>\n",
              "</div>"
            ],
            "text/plain": [
              "   Precision  Accuracy  Recall    F1\n",
              "0       0.82      0.85    0.93  0.87"
            ]
          },
          "metadata": {
            "tags": []
          },
          "execution_count": 62
        }
      ]
    },
    {
      "cell_type": "code",
      "metadata": {
        "colab": {
          "base_uri": "https://localhost:8080/",
          "height": 405
        },
        "id": "PUFHbl5WLkUU",
        "outputId": "ad89826f-bcdf-4c7a-dc57-f0510eea12f9"
      },
      "source": [
        "cross_validated_scores.T.plot.bar(title=\"Cross validated scores\",\n",
        "                                  legend=False)\n",
        "plt.xticks(rotation=0);"
      ],
      "execution_count": null,
      "outputs": [
        {
          "output_type": "display_data",
          "data": {
            "image/png": "[encoded data removed]",
            "text/plain": [
              "<Figure size 720x432 with 1 Axes>"
            ]
          },
          "metadata": {
            "tags": []
          }
        }
      ]
    },
    {
      "cell_type": "markdown",
      "metadata": {
        "id": "zdLpzJcLOQ0r"
      },
      "source": [
        "# Finding the most important Features\n",
        "\n",
        "**Feature importance is another as asking ,which features contributed the most to the outcome of the model and how did they contribute**\n",
        "\n",
        "\n",
        "---\n",
        "Finding Feature importance is different for each machine learning model.One way to tind feature importance is to search for (MODEL NAME) feature importance\n",
        "\n"
      ]
    },
    {
      "cell_type": "code",
      "metadata": {
        "colab": {
          "base_uri": "https://localhost:8080/"
        },
        "id": "nq9U3pQfNNvJ",
        "outputId": "9bfd309b-72f9-4da9-c276-7b93606f50c2"
      },
      "source": [
        "# Fit an instance of LogisticRegression\n",
        "gs_log_reg.best_params_"
      ],
      "execution_count": null,
      "outputs": [
        {
          "output_type": "execute_result",
          "data": {
            "text/plain": [
              "{'C': 0.23357214690901212, 'solver': 'liblinear'}"
            ]
          },
          "metadata": {
            "tags": []
          },
          "execution_count": 64
        }
      ]
    },
    {
      "cell_type": "code",
      "metadata": {
        "id": "P-_pI8uUP99B"
      },
      "source": [
        "clf = LogisticRegression(C=0.23357214690901212,\n",
        "                         solver=\"liblinear\")\n",
        "clf.fit(X_train,y_train);"
      ],
      "execution_count": null,
      "outputs": []
    },
    {
      "cell_type": "code",
      "metadata": {
        "colab": {
          "base_uri": "https://localhost:8080/"
        },
        "id": "jSyBIgbmQGTA",
        "outputId": "eb134a0f-8218-4e1f-e591-72a68f5aa161"
      },
      "source": [
        "# Check coef_\n",
        "clf.coef_"
      ],
      "execution_count": null,
      "outputs": [
        {
          "output_type": "execute_result",
          "data": {
            "text/plain": [
              "array([[ 0.00369922, -0.9042409 ,  0.67472826, -0.0116134 , -0.00170364,\n",
              "         0.04787688,  0.33490198,  0.02472938, -0.63120406, -0.5759095 ,\n",
              "         0.47095141, -0.65165348, -0.69984208]])"
            ]
          },
          "metadata": {
            "tags": []
          },
          "execution_count": 66
        }
      ]
    },
    {
      "cell_type": "code",
      "metadata": {
        "colab": {
          "base_uri": "https://localhost:8080/"
        },
        "id": "PP7-yRriQOqq",
        "outputId": "086f6cb4-64b4-4e0b-a8cb-a41cc3968aee"
      },
      "source": [
        "# Match coef_ of features to columns\n",
        "feature_dict = dict(zip(df.columns,list(clf.coef_[0])))\n",
        "feature_dict"
      ],
      "execution_count": null,
      "outputs": [
        {
          "output_type": "execute_result",
          "data": {
            "text/plain": [
              "{'age': 0.003699220776580221,\n",
              " 'ca': -0.6516534770577476,\n",
              " 'chol': -0.0017036439067759743,\n",
              " 'cp': 0.6747282587404362,\n",
              " 'exang': -0.6312040612837573,\n",
              " 'fbs': 0.047876881148997324,\n",
              " 'oldpeak': -0.5759095045469952,\n",
              " 'restecg': 0.3349019815885189,\n",
              " 'sex': -0.9042409028785717,\n",
              " 'slope': 0.4709514073081419,\n",
              " 'thal': -0.6998420764664995,\n",
              " 'thalach': 0.02472938284108309,\n",
              " 'trestbps': -0.011613401339975146}"
            ]
          },
          "metadata": {
            "tags": []
          },
          "execution_count": 67
        }
      ]
    },
    {
      "cell_type": "code",
      "metadata": {
        "colab": {
          "base_uri": "https://localhost:8080/",
          "height": 454
        },
        "id": "gRq1sGGDQnNu",
        "outputId": "d4b4ea30-370d-4502-daf8-bd5dded9b299"
      },
      "source": [
        "# Visualize feature importance\n",
        "feature_df = pd.DataFrame(feature_dict,index=[0])\n",
        "\n",
        "feature_df.T.plot.bar(title=\"Feature importance\",\n",
        "                      legend=False,\n",
        "                      color='salmon');"
      ],
      "execution_count": null,
      "outputs": [
        {
          "output_type": "display_data",
          "data": {
            "image/png": "[encoded data removed]",
            "text/plain": [
              "<Figure size 720x432 with 1 Axes>"
            ]
          },
          "metadata": {
            "tags": []
          }
        }
      ]
    },
    {
      "cell_type": "code",
      "metadata": {
        "colab": {
          "base_uri": "https://localhost:8080/",
          "height": 143
        },
        "id": "mZWpL90gRDeM",
        "outputId": "bcf674e1-6264-4a46-d9b5-ef1dd5f0ec11"
      },
      "source": [
        "pd.crosstab(df.sex,df.target)"
      ],
      "execution_count": null,
      "outputs": [
        {
          "output_type": "execute_result",
          "data": {
            "text/html": [
              "<div>\n",
              "<style scoped>\n",
              "    .dataframe tbody tr th:only-of-type {\n",
              "        vertical-align: middle;\n",
              "    }\n",
              "\n",
              "    .dataframe tbody tr th {\n",
              "        vertical-align: top;\n",
              "    }\n",
              "\n",
              "    .dataframe thead th {\n",
              "        text-align: right;\n",
              "    }\n",
              "</style>\n",
              "<table border=\"1\" class=\"dataframe\">\n",
              "  <thead>\n",
              "    <tr style=\"text-align: right;\">\n",
              "      <th>target</th>\n",
              "      <th>0</th>\n",
              "      <th>1</th>\n",
              "    </tr>\n",
              "    <tr>\n",
              "      <th>sex</th>\n",
              "      <th></th>\n",
              "      <th></th>\n",
              "    </tr>\n",
              "  </thead>\n",
              "  <tbody>\n",
              "    <tr>\n",
              "      <th>0</th>\n",
              "      <td>24</td>\n",
              "      <td>72</td>\n",
              "    </tr>\n",
              "    <tr>\n",
              "      <th>1</th>\n",
              "      <td>114</td>\n",
              "      <td>93</td>\n",
              "    </tr>\n",
              "  </tbody>\n",
              "</table>\n",
              "</div>"
            ],
            "text/plain": [
              "target    0   1\n",
              "sex            \n",
              "0        24  72\n",
              "1       114  93"
            ]
          },
          "metadata": {
            "tags": []
          },
          "execution_count": 69
        }
      ]
    },
    {
      "cell_type": "code",
      "metadata": {
        "colab": {
          "base_uri": "https://localhost:8080/"
        },
        "id": "lfJJbOxQRlve",
        "outputId": "2d2167be-e0c4-4e48-8d65-492c8baefb5c"
      },
      "source": [
        "72/24"
      ],
      "execution_count": null,
      "outputs": [
        {
          "output_type": "execute_result",
          "data": {
            "text/plain": [
              "3.0"
            ]
          },
          "metadata": {
            "tags": []
          },
          "execution_count": 70
        }
      ]
    },
    {
      "cell_type": "code",
      "metadata": {
        "colab": {
          "base_uri": "https://localhost:8080/"
        },
        "id": "9IQNF74WRzQZ",
        "outputId": "2b921afc-03f6-46e1-eadd-a3eefbcb622d"
      },
      "source": [
        "113/93"
      ],
      "execution_count": null,
      "outputs": [
        {
          "output_type": "execute_result",
          "data": {
            "text/plain": [
              "1.2150537634408602"
            ]
          },
          "metadata": {
            "tags": []
          },
          "execution_count": 71
        }
      ]
    },
    {
      "cell_type": "code",
      "metadata": {
        "colab": {
          "base_uri": "https://localhost:8080/",
          "height": 175
        },
        "id": "Qx7MY4MaR0iU",
        "outputId": "ef63b84b-7e89-4fd5-ae4e-7656460faabd"
      },
      "source": [
        "pd.crosstab(df.slope,df.target)"
      ],
      "execution_count": null,
      "outputs": [
        {
          "output_type": "execute_result",
          "data": {
            "text/html": [
              "<div>\n",
              "<style scoped>\n",
              "    .dataframe tbody tr th:only-of-type {\n",
              "        vertical-align: middle;\n",
              "    }\n",
              "\n",
              "    .dataframe tbody tr th {\n",
              "        vertical-align: top;\n",
              "    }\n",
              "\n",
              "    .dataframe thead th {\n",
              "        text-align: right;\n",
              "    }\n",
              "</style>\n",
              "<table border=\"1\" class=\"dataframe\">\n",
              "  <thead>\n",
              "    <tr style=\"text-align: right;\">\n",
              "      <th>target</th>\n",
              "      <th>0</th>\n",
              "      <th>1</th>\n",
              "    </tr>\n",
              "    <tr>\n",
              "      <th>slope</th>\n",
              "      <th></th>\n",
              "      <th></th>\n",
              "    </tr>\n",
              "  </thead>\n",
              "  <tbody>\n",
              "    <tr>\n",
              "      <th>0</th>\n",
              "      <td>12</td>\n",
              "      <td>9</td>\n",
              "    </tr>\n",
              "    <tr>\n",
              "      <th>1</th>\n",
              "      <td>91</td>\n",
              "      <td>49</td>\n",
              "    </tr>\n",
              "    <tr>\n",
              "      <th>2</th>\n",
              "      <td>35</td>\n",
              "      <td>107</td>\n",
              "    </tr>\n",
              "  </tbody>\n",
              "</table>\n",
              "</div>"
            ],
            "text/plain": [
              "target   0    1\n",
              "slope          \n",
              "0       12    9\n",
              "1       91   49\n",
              "2       35  107"
            ]
          },
          "metadata": {
            "tags": []
          },
          "execution_count": 72
        }
      ]
    },
    {
      "cell_type": "code",
      "metadata": {
        "colab": {
          "base_uri": "https://localhost:8080/"
        },
        "id": "_gSI4p1RYy-G",
        "outputId": "66110770-2f65-460e-c410-4ba856493c10"
      },
      "source": [
        "!pip install catboost"
      ],
      "execution_count": null,
      "outputs": [
        {
          "output_type": "stream",
          "text": [
            "Requirement already satisfied: catboost in /usr/local/lib/python3.6/dist-packages (0.24.4)\n",
            "Requirement already satisfied: scipy in /usr/local/lib/python3.6/dist-packages (from catboost) (1.4.1)\n",
            "Requirement already satisfied: plotly in /usr/local/lib/python3.6/dist-packages (from catboost) (4.4.1)\n",
            "Requirement already satisfied: numpy>=1.16.0 in /usr/local/lib/python3.6/dist-packages (from catboost) (1.19.5)\n",
            "Requirement already satisfied: graphviz in /usr/local/lib/python3.6/dist-packages (from catboost) (0.10.1)\n",
            "Requirement already satisfied: six in /usr/local/lib/python3.6/dist-packages (from catboost) (1.15.0)\n",
            "Requirement already satisfied: matplotlib in /usr/local/lib/python3.6/dist-packages (from catboost) (3.2.2)\n",
            "Requirement already satisfied: pandas>=0.24.0 in /usr/local/lib/python3.6/dist-packages (from catboost) (1.1.5)\n",
            "Requirement already satisfied: retrying>=1.3.3 in /usr/local/lib/python3.6/dist-packages (from plotly->catboost) (1.3.3)\n",
            "Requirement already satisfied: python-dateutil>=2.1 in /usr/local/lib/python3.6/dist-packages (from matplotlib->catboost) (2.8.1)\n",
            "Requirement already satisfied: cycler>=0.10 in /usr/local/lib/python3.6/dist-packages (from matplotlib->catboost) (0.10.0)\n",
            "Requirement already satisfied: pyparsing!=2.0.4,!=2.1.2,!=2.1.6,>=2.0.1 in /usr/local/lib/python3.6/dist-packages (from matplotlib->catboost) (2.4.7)\n",
            "Requirement already satisfied: kiwisolver>=1.0.1 in /usr/local/lib/python3.6/dist-packages (from matplotlib->catboost) (1.3.1)\n",
            "Requirement already satisfied: pytz>=2017.2 in /usr/local/lib/python3.6/dist-packages (from pandas>=0.24.0->catboost) (2018.9)\n"
          ],
          "name": "stdout"
        }
      ]
    },
    {
      "cell_type": "code",
      "metadata": {
        "colab": {
          "base_uri": "https://localhost:8080/",
          "height": 376
        },
        "id": "9P_NmV35Y1ep",
        "outputId": "d66195d3-8bbb-4eb5-e97f-8c012d898325"
      },
      "source": [
        "# Trying out the Cat boost model with gridsearchcvgr\n",
        "from catboost import CatBoostRegressor,CatBoostClassifier,Pool\n",
        "\n",
        "cat_model = CatBoostClassifier(verbose=True)\n",
        "\n",
        "cat_model.fit(X_train,y_train)"
      ],
      "execution_count": null,
      "outputs": [
        {
          "output_type": "error",
          "ename": "ModuleNotFoundError",
          "evalue": "ignored",
          "traceback": [
            "\u001b[0;31m---------------------------------------------------------------------------\u001b[0m",
            "\u001b[0;31mModuleNotFoundError\u001b[0m                       Traceback (most recent call last)",
            "\u001b[0;32m<ipython-input-1-b802514711bf>\u001b[0m in \u001b[0;36m<module>\u001b[0;34m()\u001b[0m\n\u001b[1;32m      1\u001b[0m \u001b[0;31m# Trying out the Cat boost model with gridsearchcvgr\u001b[0m\u001b[0;34m\u001b[0m\u001b[0;34m\u001b[0m\u001b[0;34m\u001b[0m\u001b[0m\n\u001b[0;32m----> 2\u001b[0;31m \u001b[0;32mfrom\u001b[0m \u001b[0mcatboost\u001b[0m \u001b[0;32mimport\u001b[0m \u001b[0mCatBoostRegressor\u001b[0m\u001b[0;34m,\u001b[0m\u001b[0mCatBoostClassifier\u001b[0m\u001b[0;34m,\u001b[0m\u001b[0mPool\u001b[0m\u001b[0;34m\u001b[0m\u001b[0;34m\u001b[0m\u001b[0m\n\u001b[0m\u001b[1;32m      3\u001b[0m \u001b[0;34m\u001b[0m\u001b[0m\n\u001b[1;32m      4\u001b[0m \u001b[0mcat_model\u001b[0m \u001b[0;34m=\u001b[0m \u001b[0mCatBoostClassifier\u001b[0m\u001b[0;34m(\u001b[0m\u001b[0mverbose\u001b[0m\u001b[0;34m=\u001b[0m\u001b[0;32mTrue\u001b[0m\u001b[0;34m)\u001b[0m\u001b[0;34m\u001b[0m\u001b[0;34m\u001b[0m\u001b[0m\n\u001b[1;32m      5\u001b[0m \u001b[0;34m\u001b[0m\u001b[0m\n",
            "\u001b[0;31mModuleNotFoundError\u001b[0m: No module named 'catboost'",
            "",
            "\u001b[0;31m---------------------------------------------------------------------------\u001b[0;32m\nNOTE: If your import is failing due to a missing package, you can\nmanually install dependencies using either !pip or !apt.\n\nTo view examples of installing some common dependencies, click the\n\"Open Examples\" button below.\n\u001b[0;31m---------------------------------------------------------------------------\u001b[0m\n"
          ]
        }
      ]
    },
    {
      "cell_type": "code",
      "metadata": {
        "colab": {
          "base_uri": "https://localhost:8080/"
        },
        "id": "VM6s_s6eZF8p",
        "outputId": "db06af02-72fe-4008-93b1-e9f32d74333a"
      },
      "source": [
        "y_preds_cat = cat_model.predict(X_test)\n",
        "cat_model.score(X_test,y_test)"
      ],
      "execution_count": null,
      "outputs": [
        {
          "output_type": "execute_result",
          "data": {
            "text/plain": [
              "0.8360655737704918"
            ]
          },
          "metadata": {
            "tags": []
          },
          "execution_count": 75
        }
      ]
    },
    {
      "cell_type": "code",
      "metadata": {
        "colab": {
          "base_uri": "https://localhost:8080/",
          "height": 352
        },
        "id": "eO53vNuNZbPP",
        "outputId": "6e33c270-b45e-4dbb-bc98-a349ca736bc0"
      },
      "source": [
        "plot_conf(y_test,y_preds_cat)"
      ],
      "execution_count": null,
      "outputs": [
        {
          "output_type": "display_data",
          "data": {
            "image/png": "[encoded data removed]",
            "text/plain": [
              "<Figure size 360x360 with 1 Axes>"
            ]
          },
          "metadata": {
            "tags": []
          }
        }
      ]
    },
    {
      "cell_type": "code",
      "metadata": {
        "colab": {
          "base_uri": "https://localhost:8080/"
        },
        "id": "tNbx-aibZqBd",
        "outputId": "fa85dc17-679a-4aea-d5c6-71ae170fc23d"
      },
      "source": [
        "cat_model.get_feature_importance()"
      ],
      "execution_count": null,
      "outputs": [
        {
          "output_type": "execute_result",
          "data": {
            "text/plain": [
              "array([ 7.66356929,  7.77912547, 10.94525879,  4.9416698 ,  6.85110742,\n",
              "        1.01772067,  4.49703855,  7.52804257,  6.02229235,  7.8053169 ,\n",
              "        7.17963229, 17.10405187, 10.66517403])"
            ]
          },
          "metadata": {
            "tags": []
          },
          "execution_count": 77
        }
      ]
    },
    {
      "cell_type": "code",
      "metadata": {
        "colab": {
          "base_uri": "https://localhost:8080/"
        },
        "id": "sK_-k3u6br5H",
        "outputId": "02d56b22-f559-4942-d302-5ba0ba46b6f8"
      },
      "source": [
        "# Match coef_ of features to columns\n",
        "feature_dict = dict(zip(df.columns,list(cat_model.get_feature_importance())))\n",
        "feature_dict"
      ],
      "execution_count": null,
      "outputs": [
        {
          "output_type": "execute_result",
          "data": {
            "text/plain": [
              "{'age': 7.663569292846357,\n",
              " 'ca': 17.104051865119978,\n",
              " 'chol': 6.851107421894479,\n",
              " 'cp': 10.945258793278391,\n",
              " 'exang': 6.022292345294015,\n",
              " 'fbs': 1.0177206655151505,\n",
              " 'oldpeak': 7.805316903267864,\n",
              " 'restecg': 4.4970385533678074,\n",
              " 'sex': 7.779125473845187,\n",
              " 'slope': 7.179632288889817,\n",
              " 'thal': 10.665174026744943,\n",
              " 'thalach': 7.528042570947125,\n",
              " 'trestbps': 4.941669798988894}"
            ]
          },
          "metadata": {
            "tags": []
          },
          "execution_count": 78
        }
      ]
    },
    {
      "cell_type": "code",
      "metadata": {
        "colab": {
          "base_uri": "https://localhost:8080/",
          "height": 454
        },
        "id": "79GwSdknbJhl",
        "outputId": "1855bcb4-a648-4e2b-d862-734c3e4988f1"
      },
      "source": [
        "# Visualize feature importance\n",
        "feature_df = pd.DataFrame(feature_dict,index=[0])\n",
        "\n",
        "feature_df.T.plot.bar(title=\"Feature importance\",\n",
        "                      legend=False,\n",
        "                      color='salmon');"
      ],
      "execution_count": null,
      "outputs": [
        {
          "output_type": "display_data",
          "data": {
            "image/png": "[encoded data removed]",
            "text/plain": [
              "<Figure size 720x432 with 1 Axes>"
            ]
          },
          "metadata": {
            "tags": []
          }
        }
      ]
    }
  ]
}